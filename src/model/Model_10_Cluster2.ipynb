{
 "cells": [
  {
   "cell_type": "markdown",
   "metadata": {},
   "source": [
    "## Librerias"
   ]
  },
  {
   "cell_type": "code",
   "execution_count": 1,
   "metadata": {},
   "outputs": [],
   "source": [
    "import pandas as pd\n",
    "from datetime import datetime\n",
    "import numpy as np\n",
    "\n",
    "from sklearn.model_selection import train_test_split, cross_val_score, GridSearchCV\n",
    "from sklearn.linear_model import ElasticNet, Ridge, Lasso, LinearRegression\n",
    "from sklearn.tree import DecisionTreeRegressor\n",
    "from sklearn.ensemble import RandomForestRegressor, AdaBoostRegressor, GradientBoostingRegressor, HistGradientBoostingRegressor, VotingRegressor\n",
    "from sklearn.metrics import mean_squared_error, r2_score, mean_absolute_error, mean_absolute_percentage_error\n",
    "\n",
    "import warnings\n",
    "warnings.filterwarnings(\"ignore\")"
   ]
  },
  {
   "cell_type": "markdown",
   "metadata": {},
   "source": [
    "## Carga de datos"
   ]
  },
  {
   "cell_type": "code",
   "execution_count": 3,
   "metadata": {},
   "outputs": [],
   "source": [
    "train = pd.read_csv(\"..\\\\data\\\\processed\\\\train_cluster_nlp_2.csv\" , index_col=0)"
   ]
  },
  {
   "cell_type": "markdown",
   "metadata": {},
   "source": [
    "## Train y val"
   ]
  },
  {
   "cell_type": "code",
   "execution_count": 4,
   "metadata": {},
   "outputs": [],
   "source": [
    "X = train.drop(columns=\"forks\")\n",
    "y = train[\"forks\"]\n",
    "\n",
    "X_train, X_val, y_train, y_val= train_test_split(X, y, test_size=0.2, random_state=42)"
   ]
  },
  {
   "cell_type": "markdown",
   "metadata": {},
   "source": [
    "## BaseLines"
   ]
  },
  {
   "cell_type": "code",
   "execution_count": 5,
   "metadata": {},
   "outputs": [
    {
     "data": {
      "text/html": [
       "<div>\n",
       "<style scoped>\n",
       "    .dataframe tbody tr th:only-of-type {\n",
       "        vertical-align: middle;\n",
       "    }\n",
       "\n",
       "    .dataframe tbody tr th {\n",
       "        vertical-align: top;\n",
       "    }\n",
       "\n",
       "    .dataframe thead th {\n",
       "        text-align: right;\n",
       "    }\n",
       "</style>\n",
       "<table border=\"1\" class=\"dataframe\">\n",
       "  <thead>\n",
       "    <tr style=\"text-align: right;\">\n",
       "      <th></th>\n",
       "      <th>0</th>\n",
       "    </tr>\n",
       "  </thead>\n",
       "  <tbody>\n",
       "    <tr>\n",
       "      <th>LinearRegression</th>\n",
       "      <td>0.778901</td>\n",
       "    </tr>\n",
       "    <tr>\n",
       "      <th>ElasticNet</th>\n",
       "      <td>0.124238</td>\n",
       "    </tr>\n",
       "    <tr>\n",
       "      <th>Ridge</th>\n",
       "      <td>0.778870</td>\n",
       "    </tr>\n",
       "    <tr>\n",
       "      <th>Lasso</th>\n",
       "      <td>0.116910</td>\n",
       "    </tr>\n",
       "    <tr>\n",
       "      <th>DecisionTree</th>\n",
       "      <td>0.970002</td>\n",
       "    </tr>\n",
       "    <tr>\n",
       "      <th>RandomForest</th>\n",
       "      <td>0.982549</td>\n",
       "    </tr>\n",
       "    <tr>\n",
       "      <th>AdaBoost</th>\n",
       "      <td>0.902504</td>\n",
       "    </tr>\n",
       "    <tr>\n",
       "      <th>GradientBoost</th>\n",
       "      <td>0.965129</td>\n",
       "    </tr>\n",
       "    <tr>\n",
       "      <th>HistGradientBoosting</th>\n",
       "      <td>0.979772</td>\n",
       "    </tr>\n",
       "  </tbody>\n",
       "</table>\n",
       "</div>"
      ],
      "text/plain": [
       "                             0\n",
       "LinearRegression      0.778901\n",
       "ElasticNet            0.124238\n",
       "Ridge                 0.778870\n",
       "Lasso                 0.116910\n",
       "DecisionTree          0.970002\n",
       "RandomForest          0.982549\n",
       "AdaBoost              0.902504\n",
       "GradientBoost         0.965129\n",
       "HistGradientBoosting  0.979772"
      ]
     },
     "execution_count": 5,
     "metadata": {},
     "output_type": "execute_result"
    }
   ],
   "source": [
    "modelos = {\n",
    "    \"LinearRegression\": LinearRegression(),\n",
    "    \"ElasticNet\": ElasticNet(),\n",
    "    \"Ridge\": Ridge(),\n",
    "    \"Lasso\": Lasso(),\n",
    "    \"DecisionTree\": DecisionTreeRegressor(),\n",
    "    \"RandomForest\": RandomForestRegressor(),\n",
    "    \"AdaBoost\": AdaBoostRegressor(),\n",
    "    \"GradientBoost\": GradientBoostingRegressor(),\n",
    "    \"HistGradientBoosting\": HistGradientBoostingRegressor()\n",
    "}\n",
    "\n",
    "# Define las métricas a usar\n",
    "metricas = \"r2\"\n",
    "\n",
    "resultados_dict = {}\n",
    "\n",
    "for modelo in modelos:\n",
    "\n",
    "    resultados_dict[modelo] = [cross_val_score(modelos[modelo], X_train, y_train, scoring=\"r2\", cv=3).mean()]\n",
    "\n",
    "\n",
    "pd.DataFrame(resultados_dict).T"
   ]
  },
  {
   "cell_type": "code",
   "execution_count": 6,
   "metadata": {},
   "outputs": [
    {
     "name": "stdout",
     "output_type": "stream",
     "text": [
      "dt = 0.9919142253096631\n",
      "hgb = 0.9893016743415407\n",
      "rf = 0.9925271896255468\n"
     ]
    }
   ],
   "source": [
    "VotingR = VotingRegressor(estimators=\n",
    "                          [\n",
    "                              (\"dt\", DecisionTreeRegressor(random_state=42)),\n",
    "                              (\"hgb\", HistGradientBoostingRegressor(random_state=42)),\n",
    "                              (\"rf\", RandomForestRegressor(random_state=42))\n",
    "                          ])\n",
    "VotingR.fit(X_train, y_train)\n",
    "\n",
    "for name, clf in VotingR.named_estimators_.items():\n",
    "    print(name, \"=\", clf.score(X_val, y_val))"
   ]
  },
  {
   "cell_type": "markdown",
   "metadata": {},
   "source": [
    "Elegimos ``DecisionTreeRegressor``."
   ]
  },
  {
   "cell_type": "code",
   "execution_count": 7,
   "metadata": {},
   "outputs": [],
   "source": [
    "param_grid = {\n",
    "    'max_depth': [0, 1, 2, 3, 4, 5],\n",
    "    'min_samples_leaf': np.arange(1,10),\n",
    "    'max_features': np.arange(2,12),\n",
    "    'splitter':[\"best\", \"random\"], \n",
    "    'min_samples_leaf': np.arange(2,5)\n",
    "    \n",
    "\n",
    "}\n",
    "\n",
    "decicsion_tree_r = DecisionTreeRegressor(random_state=42)\n",
    "\n",
    "grid_search = GridSearchCV(decicsion_tree_r,\n",
    "                           param_grid,\n",
    "                           cv=5,\n",
    "                           scoring='neg_root_mean_squared_error',\n",
    "                           n_jobs=-1\n",
    "                          )\n",
    "\n",
    "grid_search.fit(X_train, y_train)\n",
    "\n",
    "dtr = grid_search.best_estimator_"
   ]
  },
  {
   "cell_type": "markdown",
   "metadata": {},
   "source": [
    "## Prediciones y métricas"
   ]
  },
  {
   "cell_type": "code",
   "execution_count": 8,
   "metadata": {},
   "outputs": [
    {
     "name": "stdout",
     "output_type": "stream",
     "text": [
      "r2: 0.9465492035673039\n",
      "MAE: 0.03132544014263084\n",
      "MSE: 0.004143215611271657\n",
      "MAPE: 1.5683223726895559\n"
     ]
    }
   ],
   "source": [
    "pred = dtr.predict(X_val)\n",
    "print(\"r2:\", r2_score(y_val, pred))\n",
    "print(\"MAE:\", mean_absolute_error(y_val, pred))\n",
    "print(\"MSE:\", mean_squared_error(y_val, pred))\n",
    "print(\"MAPE:\", mean_absolute_percentage_error(y_val, pred))"
   ]
  },
  {
   "cell_type": "markdown",
   "metadata": {},
   "source": [
    "## Validación"
   ]
  },
  {
   "cell_type": "code",
   "execution_count": 9,
   "metadata": {},
   "outputs": [
    {
     "name": "stdout",
     "output_type": "stream",
     "text": [
      "train 0.9429558976961069\n",
      "val 0.9465492035673039\n"
     ]
    }
   ],
   "source": [
    "print('train',r2_score(y_train, dtr.predict(X_train)))\n",
    "print('val',r2_score(y_val, pred))"
   ]
  },
  {
   "cell_type": "markdown",
   "metadata": {},
   "source": [
    "## Test"
   ]
  },
  {
   "cell_type": "code",
   "execution_count": 10,
   "metadata": {},
   "outputs": [],
   "source": [
    "test = pd.read_csv(\"..\\\\data\\\\processed\\\\test_cluster_nlp_2.csv\" , index_col=0)\n",
    "X_test = test.drop(columns=\"forks\")\n",
    "y_test = test[\"forks\"]"
   ]
  },
  {
   "cell_type": "code",
   "execution_count": 11,
   "metadata": {},
   "outputs": [
    {
     "name": "stdout",
     "output_type": "stream",
     "text": [
      "r2: 0.9365318535198617\n",
      "MAE: 0.03511944024784474\n",
      "MSE: 0.004583829371476292\n",
      "MAPE: 0.12207460789835571\n"
     ]
    }
   ],
   "source": [
    "pred_test = dtr.predict(X_test)\n",
    "print(\"r2:\", r2_score(y_test, pred_test))\n",
    "print(\"MAE:\", mean_absolute_error(y_test, pred_test))\n",
    "print(\"MSE:\", mean_squared_error(y_test, pred_test))\n",
    "print(\"MAPE:\", mean_absolute_percentage_error(y_test, pred_test))"
   ]
  },
  {
   "cell_type": "code",
   "execution_count": 12,
   "metadata": {},
   "outputs": [
    {
     "name": "stdout",
     "output_type": "stream",
     "text": [
      "train 0.9429558976961069\n",
      "val 0.9465492035673039\n",
      "test 0.9365318535198617\n"
     ]
    }
   ],
   "source": [
    "print('train',r2_score(y_train, dtr.predict(X_train)))\n",
    "print('val',r2_score(y_val, pred))\n",
    "print('test',r2_score(y_test, pred_test))"
   ]
  }
 ],
 "metadata": {
  "kernelspec": {
   "display_name": ".venv",
   "language": "python",
   "name": "python3"
  },
  "language_info": {
   "codemirror_mode": {
    "name": "ipython",
    "version": 3
   },
   "file_extension": ".py",
   "mimetype": "text/x-python",
   "name": "python",
   "nbconvert_exporter": "python",
   "pygments_lexer": "ipython3",
   "version": "3.12.2"
  }
 },
 "nbformat": 4,
 "nbformat_minor": 2
}
