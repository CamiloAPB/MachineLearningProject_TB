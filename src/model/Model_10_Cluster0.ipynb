{
 "cells": [
  {
   "cell_type": "markdown",
   "metadata": {},
   "source": [
    "## Librerias "
   ]
  },
  {
   "cell_type": "code",
   "execution_count": 1,
   "metadata": {},
   "outputs": [],
   "source": [
    "import pandas as pd\n",
    "from datetime import datetime\n",
    "import numpy as np\n",
    "\n",
    "from sklearn.model_selection import train_test_split, cross_val_score, GridSearchCV\n",
    "from sklearn.linear_model import ElasticNet, Ridge, Lasso, LinearRegression\n",
    "from sklearn.tree import DecisionTreeRegressor\n",
    "from sklearn.ensemble import RandomForestRegressor, AdaBoostRegressor, GradientBoostingRegressor, HistGradientBoostingRegressor, VotingRegressor\n",
    "from sklearn.metrics import mean_squared_error, r2_score, mean_absolute_error, mean_absolute_percentage_error\n",
    "\n",
    "import warnings\n",
    "warnings.filterwarnings(\"ignore\")"
   ]
  },
  {
   "cell_type": "markdown",
   "metadata": {},
   "source": [
    "## Carga de datos"
   ]
  },
  {
   "cell_type": "code",
   "execution_count": 2,
   "metadata": {},
   "outputs": [],
   "source": [
    "train = pd.read_csv(\"..\\\\data\\\\processed\\\\train_cluster_nlp_0.csv\" , index_col=0)"
   ]
  },
  {
   "cell_type": "markdown",
   "metadata": {},
   "source": [
    "## Train y val"
   ]
  },
  {
   "cell_type": "code",
   "execution_count": 3,
   "metadata": {},
   "outputs": [],
   "source": [
    "X = train.drop(columns=\"forks\")\n",
    "y = train[\"forks\"]\n",
    "\n",
    "X_train, X_val, y_train, y_val= train_test_split(X, y, test_size=0.2, random_state=42)"
   ]
  },
  {
   "cell_type": "markdown",
   "metadata": {},
   "source": [
    "## Baselines"
   ]
  },
  {
   "cell_type": "code",
   "execution_count": 4,
   "metadata": {},
   "outputs": [
    {
     "data": {
      "text/html": [
       "<div>\n",
       "<style scoped>\n",
       "    .dataframe tbody tr th:only-of-type {\n",
       "        vertical-align: middle;\n",
       "    }\n",
       "\n",
       "    .dataframe tbody tr th {\n",
       "        vertical-align: top;\n",
       "    }\n",
       "\n",
       "    .dataframe thead th {\n",
       "        text-align: right;\n",
       "    }\n",
       "</style>\n",
       "<table border=\"1\" class=\"dataframe\">\n",
       "  <thead>\n",
       "    <tr style=\"text-align: right;\">\n",
       "      <th></th>\n",
       "      <th>0</th>\n",
       "    </tr>\n",
       "  </thead>\n",
       "  <tbody>\n",
       "    <tr>\n",
       "      <th>LinearRegression</th>\n",
       "      <td>0.618602</td>\n",
       "    </tr>\n",
       "    <tr>\n",
       "      <th>ElasticNet</th>\n",
       "      <td>0.483928</td>\n",
       "    </tr>\n",
       "    <tr>\n",
       "      <th>Ridge</th>\n",
       "      <td>0.618602</td>\n",
       "    </tr>\n",
       "    <tr>\n",
       "      <th>Lasso</th>\n",
       "      <td>0.370186</td>\n",
       "    </tr>\n",
       "    <tr>\n",
       "      <th>DecisionTree</th>\n",
       "      <td>0.998706</td>\n",
       "    </tr>\n",
       "    <tr>\n",
       "      <th>RandomForest</th>\n",
       "      <td>0.999402</td>\n",
       "    </tr>\n",
       "    <tr>\n",
       "      <th>AdaBoost</th>\n",
       "      <td>0.755065</td>\n",
       "    </tr>\n",
       "    <tr>\n",
       "      <th>GradientBoost</th>\n",
       "      <td>0.941943</td>\n",
       "    </tr>\n",
       "    <tr>\n",
       "      <th>HistGradientBoosting</th>\n",
       "      <td>0.992497</td>\n",
       "    </tr>\n",
       "  </tbody>\n",
       "</table>\n",
       "</div>"
      ],
      "text/plain": [
       "                             0\n",
       "LinearRegression      0.618602\n",
       "ElasticNet            0.483928\n",
       "Ridge                 0.618602\n",
       "Lasso                 0.370186\n",
       "DecisionTree          0.998706\n",
       "RandomForest          0.999402\n",
       "AdaBoost              0.755065\n",
       "GradientBoost         0.941943\n",
       "HistGradientBoosting  0.992497"
      ]
     },
     "execution_count": 4,
     "metadata": {},
     "output_type": "execute_result"
    }
   ],
   "source": [
    "modelos = {\n",
    "    \"LinearRegression\": LinearRegression(),\n",
    "    \"ElasticNet\": ElasticNet(),\n",
    "    \"Ridge\": Ridge(),\n",
    "    \"Lasso\": Lasso(),\n",
    "    \"DecisionTree\": DecisionTreeRegressor(),\n",
    "    \"RandomForest\": RandomForestRegressor(),\n",
    "    \"AdaBoost\": AdaBoostRegressor(),\n",
    "    \"GradientBoost\": GradientBoostingRegressor(),\n",
    "    \"HistGradientBoosting\": HistGradientBoostingRegressor()\n",
    "}\n",
    "\n",
    "# Define las métricas a usar\n",
    "metricas = \"r2\"\n",
    "\n",
    "resultados_dict = {}\n",
    "\n",
    "for modelo in modelos:\n",
    "\n",
    "    resultados_dict[modelo] = [cross_val_score(modelos[modelo], X_train, y_train, scoring=\"r2\", cv=3).mean()]\n",
    "\n",
    "\n",
    "pd.DataFrame(resultados_dict).T"
   ]
  },
  {
   "cell_type": "code",
   "execution_count": 5,
   "metadata": {},
   "outputs": [
    {
     "name": "stdout",
     "output_type": "stream",
     "text": [
      "dt = 0.9992639936312047\n",
      "hgb = 0.9929808032270228\n",
      "rf = 0.9996569288170022\n"
     ]
    }
   ],
   "source": [
    "VotingR = VotingRegressor(estimators=\n",
    "                          [\n",
    "                              (\"dt\", DecisionTreeRegressor(random_state=42)),\n",
    "                              (\"hgb\", HistGradientBoostingRegressor(random_state=42)),\n",
    "                              (\"rf\", RandomForestRegressor(random_state=42))\n",
    "                          ])\n",
    "VotingR.fit(X_train, y_train)\n",
    "\n",
    "for name, clf in VotingR.named_estimators_.items():\n",
    "    print(name, \"=\", clf.score(X_val, y_val))"
   ]
  },
  {
   "cell_type": "markdown",
   "metadata": {},
   "source": [
    "Elegimos ``DecisionTreeRegressor``."
   ]
  },
  {
   "cell_type": "code",
   "execution_count": 7,
   "metadata": {},
   "outputs": [],
   "source": [
    "param_grid = {\n",
    "    'max_depth': [0, 1, 2, 3, 4, 5],\n",
    "    'min_samples_leaf': np.arange(1,10),\n",
    "    'max_features': np.arange(2,12),\n",
    "    'splitter':[\"best\", \"random\"], \n",
    "    'min_samples_leaf': np.arange(2,5)\n",
    "    \n",
    "\n",
    "}\n",
    "\n",
    "decicsion_tree_r = DecisionTreeRegressor(random_state=42)\n",
    "\n",
    "grid_search = GridSearchCV(decicsion_tree_r,\n",
    "                           param_grid,\n",
    "                           cv=5,\n",
    "                           scoring='neg_root_mean_squared_error',\n",
    "                           n_jobs=-1\n",
    "                          )\n",
    "\n",
    "grid_search.fit(X_train, y_train)\n",
    "\n",
    "dtr = grid_search.best_estimator_"
   ]
  },
  {
   "cell_type": "markdown",
   "metadata": {},
   "source": [
    "## Predicciones y métricas"
   ]
  },
  {
   "cell_type": "code",
   "execution_count": 8,
   "metadata": {},
   "outputs": [
    {
     "name": "stdout",
     "output_type": "stream",
     "text": [
      "r2: 0.8676622135888432\n",
      "MAE: 0.3750654101234762\n",
      "MSE: 0.2929699081637213\n",
      "MAPE: 227827024309.22845\n"
     ]
    }
   ],
   "source": [
    "pred = dtr.predict(X_val)\n",
    "print(\"r2:\", r2_score(y_val, pred))\n",
    "print(\"MAE:\", mean_absolute_error(y_val, pred))\n",
    "print(\"MSE:\", mean_squared_error(y_val, pred))\n",
    "print(\"MAPE:\", mean_absolute_percentage_error(y_val, pred))"
   ]
  },
  {
   "cell_type": "markdown",
   "metadata": {},
   "source": [
    "## Validación"
   ]
  },
  {
   "cell_type": "code",
   "execution_count": 9,
   "metadata": {},
   "outputs": [
    {
     "name": "stdout",
     "output_type": "stream",
     "text": [
      "train 0.8615844584210337\n",
      "val 0.8676622135888432\n"
     ]
    }
   ],
   "source": [
    "print('train',r2_score(y_train, dtr.predict(X_train)))\n",
    "print('val',r2_score(y_val, pred))"
   ]
  },
  {
   "cell_type": "markdown",
   "metadata": {},
   "source": [
    "## Test"
   ]
  },
  {
   "cell_type": "code",
   "execution_count": 10,
   "metadata": {},
   "outputs": [],
   "source": [
    "test = pd.read_csv(\"..\\\\data\\\\processed\\\\test_cluster_nlp_0.csv\" , index_col=0)\n",
    "X_test = test.drop(columns=\"forks\")\n",
    "y_test = test[\"forks\"]"
   ]
  },
  {
   "cell_type": "code",
   "execution_count": 11,
   "metadata": {},
   "outputs": [
    {
     "name": "stdout",
     "output_type": "stream",
     "text": [
      "r2: 0.8645237055682455\n",
      "MAE: 0.3687445557461134\n",
      "MSE: 0.2834253102446696\n",
      "MAPE: 70030585123.98593\n"
     ]
    }
   ],
   "source": [
    "pred_test = dtr.predict(X_test)\n",
    "print(\"r2:\", r2_score(y_test, pred_test))\n",
    "print(\"MAE:\", mean_absolute_error(y_test, pred_test))\n",
    "print(\"MSE:\", mean_squared_error(y_test, pred_test))\n",
    "print(\"MAPE:\", mean_absolute_percentage_error(y_test, pred_test))"
   ]
  },
  {
   "cell_type": "code",
   "execution_count": 12,
   "metadata": {},
   "outputs": [
    {
     "name": "stdout",
     "output_type": "stream",
     "text": [
      "train 0.8615844584210337\n",
      "val 0.8676622135888432\n",
      "test 0.8645237055682455\n"
     ]
    }
   ],
   "source": [
    "print('train',r2_score(y_train, dtr.predict(X_train)))\n",
    "print('val',r2_score(y_val, pred))\n",
    "print('test',r2_score(y_test, pred_test))"
   ]
  }
 ],
 "metadata": {
  "kernelspec": {
   "display_name": ".venv",
   "language": "python",
   "name": "python3"
  },
  "language_info": {
   "codemirror_mode": {
    "name": "ipython",
    "version": 3
   },
   "file_extension": ".py",
   "mimetype": "text/x-python",
   "name": "python",
   "nbconvert_exporter": "python",
   "pygments_lexer": "ipython3",
   "version": "3.12.2"
  }
 },
 "nbformat": 4,
 "nbformat_minor": 2
}
