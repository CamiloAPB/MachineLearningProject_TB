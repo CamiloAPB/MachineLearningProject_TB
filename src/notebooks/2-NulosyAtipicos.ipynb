{
 "cells": [
  {
   "cell_type": "markdown",
   "metadata": {},
   "source": [
    "En este notebook se realizará el tratamiento de los valores nulos y atípicos del DataFrame."
   ]
  },
  {
   "cell_type": "markdown",
   "metadata": {},
   "source": [
    "## Librerias y carga de datos"
   ]
  },
  {
   "cell_type": "code",
   "execution_count": 20,
   "metadata": {},
   "outputs": [],
   "source": [
    "import pandas as pd\n",
    "from IPython.display import Image"
   ]
  },
  {
   "cell_type": "code",
   "execution_count": 9,
   "metadata": {},
   "outputs": [],
   "source": [
    "df = pd.read_csv(\"..\\\\data\\\\processed\\\\features_eliminados.csv\")"
   ]
  },
  {
   "cell_type": "code",
   "execution_count": 10,
   "metadata": {},
   "outputs": [
    {
     "data": {
      "text/html": [
       "<div>\n",
       "<style scoped>\n",
       "    .dataframe tbody tr th:only-of-type {\n",
       "        vertical-align: middle;\n",
       "    }\n",
       "\n",
       "    .dataframe tbody tr th {\n",
       "        vertical-align: top;\n",
       "    }\n",
       "\n",
       "    .dataframe thead th {\n",
       "        text-align: right;\n",
       "    }\n",
       "</style>\n",
       "<table border=\"1\" class=\"dataframe\">\n",
       "  <thead>\n",
       "    <tr style=\"text-align: right;\">\n",
       "      <th></th>\n",
       "      <th>Unnamed: 0</th>\n",
       "      <th>date</th>\n",
       "      <th>rank</th>\n",
       "      <th>repo_name</th>\n",
       "      <th>stars</th>\n",
       "      <th>forks</th>\n",
       "      <th>username</th>\n",
       "      <th>issues</th>\n",
       "      <th>last_commit</th>\n",
       "      <th>description</th>\n",
       "    </tr>\n",
       "  </thead>\n",
       "  <tbody>\n",
       "    <tr>\n",
       "      <th>0</th>\n",
       "      <td>0</td>\n",
       "      <td>2018-12-18</td>\n",
       "      <td>1</td>\n",
       "      <td>awesome-python</td>\n",
       "      <td>58777</td>\n",
       "      <td>11448</td>\n",
       "      <td>vinta</td>\n",
       "      <td>439</td>\n",
       "      <td>2018-12-13 08:29:32+00:00</td>\n",
       "      <td>A curated list of awesome Python frameworks, l...</td>\n",
       "    </tr>\n",
       "    <tr>\n",
       "      <th>1</th>\n",
       "      <td>1</td>\n",
       "      <td>2018-12-18</td>\n",
       "      <td>2</td>\n",
       "      <td>system-design-primer</td>\n",
       "      <td>53575</td>\n",
       "      <td>7570</td>\n",
       "      <td>donnemartin</td>\n",
       "      <td>68</td>\n",
       "      <td>2018-12-18 11:20:56+00:00</td>\n",
       "      <td>Learn how to design large-scale systems. Prep ...</td>\n",
       "    </tr>\n",
       "    <tr>\n",
       "      <th>2</th>\n",
       "      <td>2</td>\n",
       "      <td>2018-12-18</td>\n",
       "      <td>3</td>\n",
       "      <td>models</td>\n",
       "      <td>46039</td>\n",
       "      <td>28053</td>\n",
       "      <td>tensorflow</td>\n",
       "      <td>1324</td>\n",
       "      <td>2018-12-18 02:29:33+00:00</td>\n",
       "      <td>Models and examples built with TensorFlow</td>\n",
       "    </tr>\n",
       "    <tr>\n",
       "      <th>3</th>\n",
       "      <td>3</td>\n",
       "      <td>2018-12-18</td>\n",
       "      <td>4</td>\n",
       "      <td>public-apis</td>\n",
       "      <td>45373</td>\n",
       "      <td>4707</td>\n",
       "      <td>toddmotto</td>\n",
       "      <td>5</td>\n",
       "      <td>2018-12-18 11:24:53+00:00</td>\n",
       "      <td>A collective list of free APIs for use in soft...</td>\n",
       "    </tr>\n",
       "    <tr>\n",
       "      <th>4</th>\n",
       "      <td>4</td>\n",
       "      <td>2018-12-18</td>\n",
       "      <td>5</td>\n",
       "      <td>youtube-dl</td>\n",
       "      <td>44956</td>\n",
       "      <td>7820</td>\n",
       "      <td>rg3</td>\n",
       "      <td>2566</td>\n",
       "      <td>2018-12-18 11:18:21+00:00</td>\n",
       "      <td>Command-line program to download videos from Y...</td>\n",
       "    </tr>\n",
       "  </tbody>\n",
       "</table>\n",
       "</div>"
      ],
      "text/plain": [
       "   Unnamed: 0        date  rank             repo_name  stars  forks  \\\n",
       "0           0  2018-12-18     1        awesome-python  58777  11448   \n",
       "1           1  2018-12-18     2  system-design-primer  53575   7570   \n",
       "2           2  2018-12-18     3                models  46039  28053   \n",
       "3           3  2018-12-18     4           public-apis  45373   4707   \n",
       "4           4  2018-12-18     5            youtube-dl  44956   7820   \n",
       "\n",
       "      username  issues                last_commit  \\\n",
       "0        vinta     439  2018-12-13 08:29:32+00:00   \n",
       "1  donnemartin      68  2018-12-18 11:20:56+00:00   \n",
       "2   tensorflow    1324  2018-12-18 02:29:33+00:00   \n",
       "3    toddmotto       5  2018-12-18 11:24:53+00:00   \n",
       "4          rg3    2566  2018-12-18 11:18:21+00:00   \n",
       "\n",
       "                                         description  \n",
       "0  A curated list of awesome Python frameworks, l...  \n",
       "1  Learn how to design large-scale systems. Prep ...  \n",
       "2          Models and examples built with TensorFlow  \n",
       "3  A collective list of free APIs for use in soft...  \n",
       "4  Command-line program to download videos from Y...  "
      ]
     },
     "execution_count": 10,
     "metadata": {},
     "output_type": "execute_result"
    }
   ],
   "source": [
    "df.head()"
   ]
  },
  {
   "cell_type": "code",
   "execution_count": 16,
   "metadata": {},
   "outputs": [],
   "source": [
    "df.drop('Unnamed: 0', axis=1, inplace=True)"
   ]
  },
  {
   "cell_type": "markdown",
   "metadata": {},
   "source": [
    "## Valores nulos"
   ]
  },
  {
   "cell_type": "code",
   "execution_count": 6,
   "metadata": {},
   "outputs": [
    {
     "data": {
      "text/plain": [
       "Unnamed: 0     0.000000\n",
       "date           0.000000\n",
       "rank           0.000000\n",
       "repo_name      0.000000\n",
       "stars          0.000000\n",
       "forks          0.000000\n",
       "username       0.000000\n",
       "issues         0.000000\n",
       "last_commit    0.000000\n",
       "description    0.935518\n",
       "dtype: float64"
      ]
     },
     "execution_count": 6,
     "metadata": {},
     "output_type": "execute_result"
    }
   ],
   "source": [
    "df.isnull().sum()/len(df)*100"
   ]
  },
  {
   "cell_type": "markdown",
   "metadata": {},
   "source": [
    "El único feature con valores nulos es *description*. Al ser menos de un 1% de los datos y además una variable imposible de imputar, procedemos a eliminar estos valores nulos."
   ]
  },
  {
   "cell_type": "code",
   "execution_count": 19,
   "metadata": {},
   "outputs": [],
   "source": [
    "df_1 = df.copy()\n",
    "df_1.dropna(axis=0, inplace=True)"
   ]
  },
  {
   "cell_type": "code",
   "execution_count": 31,
   "metadata": {},
   "outputs": [
    {
     "data": {
      "text/plain": [
       "(168687, 9)"
      ]
     },
     "execution_count": 31,
     "metadata": {},
     "output_type": "execute_result"
    }
   ],
   "source": [
    "df_1.shape"
   ]
  },
  {
   "cell_type": "markdown",
   "metadata": {},
   "source": [
    "## Valores atípicos y outliers\n",
    "\n",
    "Tras lo visto en el EDA, no existen valores atípicos (imposibles o incoherentes). En cuanto a los outliers, el único feature con valores que pueden considerarse outliers reales es la variable *last_commit*"
   ]
  },
  {
   "cell_type": "code",
   "execution_count": 22,
   "metadata": {},
   "outputs": [
    {
     "data": {
      "text/html": [
       "<img src=\"..\\utils\\graphics\\catplot_ForksLCTop.png\"/>"
      ],
      "text/plain": [
       "<IPython.core.display.Image object>"
      ]
     },
     "execution_count": 22,
     "metadata": {},
     "output_type": "execute_result"
    }
   ],
   "source": [
    "img = '..\\\\utils\\\\graphics\\\\catplot_ForksLCTop.png'\n",
    "Image(url=img)"
   ]
  },
  {
   "cell_type": "markdown",
   "metadata": {},
   "source": [
    "Tal y como se observa en el gráfico, los repositorios con un último commit anterior a 2017 no tienen muchos forks y tampoco están bien situados en el ranking. Aun así, guardaremos el DataFrame eliminando estos outliers y también sin eliminarlos para comprobar como afecta al modelo."
   ]
  },
  {
   "cell_type": "code",
   "execution_count": 23,
   "metadata": {},
   "outputs": [],
   "source": [
    "df_2 = df_1.copy()"
   ]
  },
  {
   "cell_type": "code",
   "execution_count": 30,
   "metadata": {},
   "outputs": [
    {
     "data": {
      "text/plain": [
       "(168202, 9)"
      ]
     },
     "execution_count": 30,
     "metadata": {},
     "output_type": "execute_result"
    }
   ],
   "source": [
    "df_2.drop(df_2[df_2[\"last_commit\"].str.contains(\"2009\")].index, inplace=True)\n",
    "df_2.drop(df_2[df_2[\"last_commit\"].str.contains(\"2010\")].index, inplace=True)\n",
    "df_2.drop(df_2[df_2[\"last_commit\"].str.contains(\"2011\")].index, inplace=True)\n",
    "df_2.drop(df_2[df_2[\"last_commit\"].str.contains(\"2012\")].index, inplace=True)\n",
    "df_2.drop(df_2[df_2[\"last_commit\"].str.contains(\"2013\")].index, inplace=True)\n",
    "df_2.drop(df_2[df_2[\"last_commit\"].str.contains(\"2014\")].index, inplace=True)\n",
    "df_2.drop(df_2[df_2[\"last_commit\"].str.contains(\"2015\")].index, inplace=True)\n",
    "df_2.drop(df_2[df_2[\"last_commit\"].str.contains(\"2016\")].index, inplace=True)\n",
    "\n",
    "df_2.shape"
   ]
  },
  {
   "cell_type": "markdown",
   "metadata": {},
   "source": [
    "## Guardando los datasets actualizados"
   ]
  },
  {
   "cell_type": "code",
   "execution_count": 32,
   "metadata": {},
   "outputs": [],
   "source": [
    "df_1.to_csv(\"..\\\\data\\\\processed\\\\limpio_nulos.csv\")\n",
    "df_2.to_csv(\"..\\\\data\\\\processed\\\\limpio_outliers.csv\")"
   ]
  }
 ],
 "metadata": {
  "kernelspec": {
   "display_name": "Python 3",
   "language": "python",
   "name": "python3"
  },
  "language_info": {
   "codemirror_mode": {
    "name": "ipython",
    "version": 3
   },
   "file_extension": ".py",
   "mimetype": "text/x-python",
   "name": "python",
   "nbconvert_exporter": "python",
   "pygments_lexer": "ipython3",
   "version": "3.11.5"
  }
 },
 "nbformat": 4,
 "nbformat_minor": 2
}
