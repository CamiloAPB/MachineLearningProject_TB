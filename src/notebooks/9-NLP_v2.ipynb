{
 "cells": [
  {
   "cell_type": "markdown",
   "metadata": {},
   "source": [
    "## Librerias"
   ]
  },
  {
   "cell_type": "code",
   "execution_count": 34,
   "metadata": {},
   "outputs": [],
   "source": [
    "# Tratamiento de datos\n",
    "import pandas as pd\n",
    "from datetime import datetime\n",
    "import numpy as np\n",
    "\n",
    "# NLP\n",
    "import nltk\n",
    "from nltk.sentiment.vader import SentimentIntensityAnalyzer\n",
    "from nltk.corpus import stopwords\n",
    "from nltk.stem import WordNetLemmatizer\n",
    "from nltk.tokenize import word_tokenize\n",
    "\n",
    "import spacy\n",
    "from collections import Counter\n",
    "\n",
    "# Regex\n",
    "import re\n",
    "\n",
    "# Vectorización\n",
    "from sklearn.feature_extraction.text import CountVectorizer\n",
    "\n",
    "# Clusterización\n",
    "from sklearn.cluster import MiniBatchKMeans\n",
    "from sklearn.metrics import silhouette_score\n",
    "\n",
    "# Visualización\n",
    "import matplotlib.pyplot as plt\n",
    "import seaborn as sns\n",
    "\n",
    "# Preporcesado ML\n",
    "from sklearn.model_selection import train_test_split, cross_val_score\n",
    "from sklearn.preprocessing import LabelEncoder, RobustScaler\n",
    "\n",
    "# Warnings\n",
    "import warnings\n",
    "warnings.filterwarnings(\"ignore\")"
   ]
  },
  {
   "cell_type": "markdown",
   "metadata": {},
   "source": [
    "## Carga de datos"
   ]
  },
  {
   "cell_type": "code",
   "execution_count": 2,
   "metadata": {},
   "outputs": [],
   "source": [
    "df = pd.read_csv(\"..\\\\data\\\\processed\\\\feature_engeering.csv\", index_col=0, parse_dates=[\"date\"])"
   ]
  },
  {
   "cell_type": "markdown",
   "metadata": {},
   "source": [
    "## Análisis de sentimientos\n",
    "\n",
    "En este apartado simplemente vamos a realizar las mismas modificaciones y transformaciones que utilizamos en el primer notebook de NLP para así tenerlo en nuestro nuevo DataFrame, y desde ahí proseguir con el trabajo de NLP."
   ]
  },
  {
   "cell_type": "code",
   "execution_count": 3,
   "metadata": {},
   "outputs": [
    {
     "data": {
      "text/html": [
       "<div>\n",
       "<style scoped>\n",
       "    .dataframe tbody tr th:only-of-type {\n",
       "        vertical-align: middle;\n",
       "    }\n",
       "\n",
       "    .dataframe tbody tr th {\n",
       "        vertical-align: top;\n",
       "    }\n",
       "\n",
       "    .dataframe thead th {\n",
       "        text-align: right;\n",
       "    }\n",
       "</style>\n",
       "<table border=\"1\" class=\"dataframe\">\n",
       "  <thead>\n",
       "    <tr style=\"text-align: right;\">\n",
       "      <th></th>\n",
       "      <th>repo_name</th>\n",
       "      <th>neg</th>\n",
       "      <th>neu</th>\n",
       "      <th>pos</th>\n",
       "      <th>compound</th>\n",
       "      <th>date</th>\n",
       "      <th>rank</th>\n",
       "      <th>stars</th>\n",
       "      <th>forks</th>\n",
       "      <th>username</th>\n",
       "      <th>issues</th>\n",
       "      <th>description</th>\n",
       "      <th>days_since_lc</th>\n",
       "      <th>repos_by_user</th>\n",
       "    </tr>\n",
       "  </thead>\n",
       "  <tbody>\n",
       "    <tr>\n",
       "      <th>0</th>\n",
       "      <td>awesome-python</td>\n",
       "      <td>0.0</td>\n",
       "      <td>0.687</td>\n",
       "      <td>0.313</td>\n",
       "      <td>0.6249</td>\n",
       "      <td>2018-12-18</td>\n",
       "      <td>1</td>\n",
       "      <td>58777</td>\n",
       "      <td>11448</td>\n",
       "      <td>3209</td>\n",
       "      <td>439</td>\n",
       "      <td>A curated list of awesome Python frameworks, l...</td>\n",
       "      <td>5.0</td>\n",
       "      <td>1.0</td>\n",
       "    </tr>\n",
       "    <tr>\n",
       "      <th>1</th>\n",
       "      <td>awesome-python</td>\n",
       "      <td>0.0</td>\n",
       "      <td>0.687</td>\n",
       "      <td>0.313</td>\n",
       "      <td>0.6249</td>\n",
       "      <td>2018-12-19</td>\n",
       "      <td>1</td>\n",
       "      <td>58801</td>\n",
       "      <td>11454</td>\n",
       "      <td>3209</td>\n",
       "      <td>439</td>\n",
       "      <td>A curated list of awesome Python frameworks, l...</td>\n",
       "      <td>6.0</td>\n",
       "      <td>1.0</td>\n",
       "    </tr>\n",
       "    <tr>\n",
       "      <th>2</th>\n",
       "      <td>awesome-python</td>\n",
       "      <td>0.0</td>\n",
       "      <td>0.687</td>\n",
       "      <td>0.313</td>\n",
       "      <td>0.6249</td>\n",
       "      <td>2018-12-20</td>\n",
       "      <td>1</td>\n",
       "      <td>58840</td>\n",
       "      <td>11455</td>\n",
       "      <td>3209</td>\n",
       "      <td>439</td>\n",
       "      <td>A curated list of awesome Python frameworks, l...</td>\n",
       "      <td>0.0</td>\n",
       "      <td>1.0</td>\n",
       "    </tr>\n",
       "    <tr>\n",
       "      <th>3</th>\n",
       "      <td>awesome-python</td>\n",
       "      <td>0.0</td>\n",
       "      <td>0.687</td>\n",
       "      <td>0.313</td>\n",
       "      <td>0.6249</td>\n",
       "      <td>2018-12-21</td>\n",
       "      <td>1</td>\n",
       "      <td>58882</td>\n",
       "      <td>11465</td>\n",
       "      <td>3209</td>\n",
       "      <td>440</td>\n",
       "      <td>A curated list of awesome Python frameworks, l...</td>\n",
       "      <td>1.0</td>\n",
       "      <td>1.0</td>\n",
       "    </tr>\n",
       "    <tr>\n",
       "      <th>4</th>\n",
       "      <td>awesome-python</td>\n",
       "      <td>0.0</td>\n",
       "      <td>0.687</td>\n",
       "      <td>0.313</td>\n",
       "      <td>0.6249</td>\n",
       "      <td>2018-12-22</td>\n",
       "      <td>1</td>\n",
       "      <td>58936</td>\n",
       "      <td>11470</td>\n",
       "      <td>3209</td>\n",
       "      <td>439</td>\n",
       "      <td>A curated list of awesome Python frameworks, l...</td>\n",
       "      <td>2.0</td>\n",
       "      <td>1.0</td>\n",
       "    </tr>\n",
       "  </tbody>\n",
       "</table>\n",
       "</div>"
      ],
      "text/plain": [
       "        repo_name  neg    neu    pos  compound       date  rank  stars  forks  \\\n",
       "0  awesome-python  0.0  0.687  0.313    0.6249 2018-12-18     1  58777  11448   \n",
       "1  awesome-python  0.0  0.687  0.313    0.6249 2018-12-19     1  58801  11454   \n",
       "2  awesome-python  0.0  0.687  0.313    0.6249 2018-12-20     1  58840  11455   \n",
       "3  awesome-python  0.0  0.687  0.313    0.6249 2018-12-21     1  58882  11465   \n",
       "4  awesome-python  0.0  0.687  0.313    0.6249 2018-12-22     1  58936  11470   \n",
       "\n",
       "   username  issues                                        description  \\\n",
       "0      3209     439  A curated list of awesome Python frameworks, l...   \n",
       "1      3209     439  A curated list of awesome Python frameworks, l...   \n",
       "2      3209     439  A curated list of awesome Python frameworks, l...   \n",
       "3      3209     440  A curated list of awesome Python frameworks, l...   \n",
       "4      3209     439  A curated list of awesome Python frameworks, l...   \n",
       "\n",
       "   days_since_lc  repos_by_user  \n",
       "0            5.0            1.0  \n",
       "1            6.0            1.0  \n",
       "2            0.0            1.0  \n",
       "3            1.0            1.0  \n",
       "4            2.0            1.0  "
      ]
     },
     "execution_count": 3,
     "metadata": {},
     "output_type": "execute_result"
    }
   ],
   "source": [
    "sia = SentimentIntensityAnalyzer()\n",
    "\n",
    "res = {}\n",
    "\n",
    "for i, x in df.iterrows():\n",
    "    des = x[\"description\"]\n",
    "    repo_name = x[\"repo_name\"]\n",
    "    res[repo_name] = sia.polarity_scores(des)\n",
    "\n",
    "vaders = pd.DataFrame(res).T\n",
    "vaders = vaders.reset_index().rename(columns={\"index\":\"repo_name\"})\n",
    "vaders = vaders.merge(df, how=\"left\")\n",
    "\n",
    "vaders.head()"
   ]
  },
  {
   "cell_type": "markdown",
   "metadata": {},
   "source": [
    "Eliminamos neg, neu y pos porque como vimos en el anterior notebook de nlp, son colineales con compund que nos aporta información global sobre el sentmiento de la descripción."
   ]
  },
  {
   "cell_type": "code",
   "execution_count": 4,
   "metadata": {},
   "outputs": [
    {
     "data": {
      "text/html": [
       "<div>\n",
       "<style scoped>\n",
       "    .dataframe tbody tr th:only-of-type {\n",
       "        vertical-align: middle;\n",
       "    }\n",
       "\n",
       "    .dataframe tbody tr th {\n",
       "        vertical-align: top;\n",
       "    }\n",
       "\n",
       "    .dataframe thead th {\n",
       "        text-align: right;\n",
       "    }\n",
       "</style>\n",
       "<table border=\"1\" class=\"dataframe\">\n",
       "  <thead>\n",
       "    <tr style=\"text-align: right;\">\n",
       "      <th></th>\n",
       "      <th>repo_name</th>\n",
       "      <th>compound</th>\n",
       "      <th>date</th>\n",
       "      <th>rank</th>\n",
       "      <th>stars</th>\n",
       "      <th>forks</th>\n",
       "      <th>username</th>\n",
       "      <th>issues</th>\n",
       "      <th>description</th>\n",
       "      <th>days_since_lc</th>\n",
       "      <th>repos_by_user</th>\n",
       "    </tr>\n",
       "  </thead>\n",
       "  <tbody>\n",
       "    <tr>\n",
       "      <th>0</th>\n",
       "      <td>awesome-python</td>\n",
       "      <td>0.6249</td>\n",
       "      <td>2018-12-18</td>\n",
       "      <td>1</td>\n",
       "      <td>58777</td>\n",
       "      <td>11448</td>\n",
       "      <td>3209</td>\n",
       "      <td>439</td>\n",
       "      <td>A curated list of awesome Python frameworks, l...</td>\n",
       "      <td>5.0</td>\n",
       "      <td>1.0</td>\n",
       "    </tr>\n",
       "    <tr>\n",
       "      <th>1</th>\n",
       "      <td>awesome-python</td>\n",
       "      <td>0.6249</td>\n",
       "      <td>2018-12-19</td>\n",
       "      <td>1</td>\n",
       "      <td>58801</td>\n",
       "      <td>11454</td>\n",
       "      <td>3209</td>\n",
       "      <td>439</td>\n",
       "      <td>A curated list of awesome Python frameworks, l...</td>\n",
       "      <td>6.0</td>\n",
       "      <td>1.0</td>\n",
       "    </tr>\n",
       "    <tr>\n",
       "      <th>2</th>\n",
       "      <td>awesome-python</td>\n",
       "      <td>0.6249</td>\n",
       "      <td>2018-12-20</td>\n",
       "      <td>1</td>\n",
       "      <td>58840</td>\n",
       "      <td>11455</td>\n",
       "      <td>3209</td>\n",
       "      <td>439</td>\n",
       "      <td>A curated list of awesome Python frameworks, l...</td>\n",
       "      <td>0.0</td>\n",
       "      <td>1.0</td>\n",
       "    </tr>\n",
       "    <tr>\n",
       "      <th>3</th>\n",
       "      <td>awesome-python</td>\n",
       "      <td>0.6249</td>\n",
       "      <td>2018-12-21</td>\n",
       "      <td>1</td>\n",
       "      <td>58882</td>\n",
       "      <td>11465</td>\n",
       "      <td>3209</td>\n",
       "      <td>440</td>\n",
       "      <td>A curated list of awesome Python frameworks, l...</td>\n",
       "      <td>1.0</td>\n",
       "      <td>1.0</td>\n",
       "    </tr>\n",
       "    <tr>\n",
       "      <th>4</th>\n",
       "      <td>awesome-python</td>\n",
       "      <td>0.6249</td>\n",
       "      <td>2018-12-22</td>\n",
       "      <td>1</td>\n",
       "      <td>58936</td>\n",
       "      <td>11470</td>\n",
       "      <td>3209</td>\n",
       "      <td>439</td>\n",
       "      <td>A curated list of awesome Python frameworks, l...</td>\n",
       "      <td>2.0</td>\n",
       "      <td>1.0</td>\n",
       "    </tr>\n",
       "  </tbody>\n",
       "</table>\n",
       "</div>"
      ],
      "text/plain": [
       "        repo_name  compound       date  rank  stars  forks  username  issues  \\\n",
       "0  awesome-python    0.6249 2018-12-18     1  58777  11448      3209     439   \n",
       "1  awesome-python    0.6249 2018-12-19     1  58801  11454      3209     439   \n",
       "2  awesome-python    0.6249 2018-12-20     1  58840  11455      3209     439   \n",
       "3  awesome-python    0.6249 2018-12-21     1  58882  11465      3209     440   \n",
       "4  awesome-python    0.6249 2018-12-22     1  58936  11470      3209     439   \n",
       "\n",
       "                                         description  days_since_lc  \\\n",
       "0  A curated list of awesome Python frameworks, l...            5.0   \n",
       "1  A curated list of awesome Python frameworks, l...            6.0   \n",
       "2  A curated list of awesome Python frameworks, l...            0.0   \n",
       "3  A curated list of awesome Python frameworks, l...            1.0   \n",
       "4  A curated list of awesome Python frameworks, l...            2.0   \n",
       "\n",
       "   repos_by_user  \n",
       "0            1.0  \n",
       "1            1.0  \n",
       "2            1.0  \n",
       "3            1.0  \n",
       "4            1.0  "
      ]
     },
     "execution_count": 4,
     "metadata": {},
     "output_type": "execute_result"
    }
   ],
   "source": [
    "vaders.drop(columns=[\"neg\", \"neu\", \"pos\"], inplace=True)\n",
    "\n",
    "vaders.head()"
   ]
  },
  {
   "cell_type": "code",
   "execution_count": 5,
   "metadata": {},
   "outputs": [],
   "source": [
    "df = vaders.copy()"
   ]
  },
  {
   "cell_type": "markdown",
   "metadata": {},
   "source": [
    "## Limpieza description\n",
    "\n",
    "Debido a que nltk nos permite realizar el análisis de sentimientos sin limpiar el texto hemos avanzado hasta aquí sin tener que pasar por tal proceso, pero para los siguientes pasos es necesario."
   ]
  },
  {
   "cell_type": "markdown",
   "metadata": {},
   "source": [
    "### Signos de puntuación"
   ]
  },
  {
   "cell_type": "code",
   "execution_count": 6,
   "metadata": {},
   "outputs": [
    {
     "data": {
      "text/plain": [
       "0    a curated list of awesome python frameworks li...\n",
       "1    a curated list of awesome python frameworks li...\n",
       "2    a curated list of awesome python frameworks li...\n",
       "3    a curated list of awesome python frameworks li...\n",
       "4    a curated list of awesome python frameworks li...\n",
       "Name: description, dtype: object"
      ]
     },
     "execution_count": 6,
     "metadata": {},
     "output_type": "execute_result"
    }
   ],
   "source": [
    "signos = re.compile(\"(\\.)|(\\;)|(\\:)|(\\!)|(\\?)|(\\¿)|(\\@)|(\\,)|(\\\")|(\\()|(\\))|(\\[)|(\\])|(\\d+)\")\n",
    "\n",
    "def signs_description(des):\n",
    "    return signos.sub('', des.lower())\n",
    "\n",
    "df['description'] = df['description'].apply(signs_description)\n",
    "df['description'].head()"
   ]
  },
  {
   "cell_type": "code",
   "execution_count": 7,
   "metadata": {},
   "outputs": [
    {
     "data": {
      "text/plain": [
       "0    a curated list of awesome python frameworks li...\n",
       "1    a curated list of awesome python frameworks li...\n",
       "2    a curated list of awesome python frameworks li...\n",
       "3    a curated list of awesome python frameworks li...\n",
       "4    a curated list of awesome python frameworks li...\n",
       "Name: description, dtype: object"
      ]
     },
     "execution_count": 7,
     "metadata": {},
     "output_type": "execute_result"
    }
   ],
   "source": [
    "def remove_emojis(text):\n",
    "    emoji_pattern = re.compile(\"[\"\n",
    "                               u\"\\U0001F600-\\U0001F64F\"\n",
    "                               u\"\\U0001F300-\\U0001F5FF\"  \n",
    "                               u\"\\U0001F680-\\U0001F6FF\"  \n",
    "                               u\"\\U0001F1E0-\\U0001F1FF\"  \n",
    "                               u\"\\U00002500-\\U00002BEF\"  \n",
    "                               u\"\\U00002702-\\U000027B0\"\n",
    "                               u\"\\U00002702-\\U000027B0\"\n",
    "                               u\"\\U000024C2-\\U0001F251\"\n",
    "                               u\"\\U0001f926-\\U0001f937\"\n",
    "                               u\"\\U00010000-\\U0010ffff\"\n",
    "                               u\"\\u2640-\\u2642\" \n",
    "                               u\"\\u2600-\\u2B55\"\n",
    "                               u\"\\u200d\"\n",
    "                               u\"\\u23cf\"\n",
    "                               u\"\\u23e9\"\n",
    "                               u\"\\u231a\"\n",
    "                               u\"\\ufe0f\"  \n",
    "                               u\"\\u3030\"\n",
    "                               \"]+\", flags=re.UNICODE)\n",
    "    return emoji_pattern.sub(r'', text.lower())\n",
    "\n",
    "\n",
    "df['description'] = df['description'].apply(remove_emojis)\n",
    "df['description'].head()"
   ]
  },
  {
   "cell_type": "markdown",
   "metadata": {},
   "source": [
    "### Stopwords"
   ]
  },
  {
   "cell_type": "code",
   "execution_count": 8,
   "metadata": {},
   "outputs": [
    {
     "data": {
      "text/html": [
       "<div>\n",
       "<style scoped>\n",
       "    .dataframe tbody tr th:only-of-type {\n",
       "        vertical-align: middle;\n",
       "    }\n",
       "\n",
       "    .dataframe tbody tr th {\n",
       "        vertical-align: top;\n",
       "    }\n",
       "\n",
       "    .dataframe thead th {\n",
       "        text-align: right;\n",
       "    }\n",
       "</style>\n",
       "<table border=\"1\" class=\"dataframe\">\n",
       "  <thead>\n",
       "    <tr style=\"text-align: right;\">\n",
       "      <th></th>\n",
       "      <th>repo_name</th>\n",
       "      <th>compound</th>\n",
       "      <th>date</th>\n",
       "      <th>rank</th>\n",
       "      <th>stars</th>\n",
       "      <th>forks</th>\n",
       "      <th>username</th>\n",
       "      <th>issues</th>\n",
       "      <th>description</th>\n",
       "      <th>days_since_lc</th>\n",
       "      <th>repos_by_user</th>\n",
       "    </tr>\n",
       "  </thead>\n",
       "  <tbody>\n",
       "    <tr>\n",
       "      <th>0</th>\n",
       "      <td>awesome-python</td>\n",
       "      <td>0.6249</td>\n",
       "      <td>2018-12-18</td>\n",
       "      <td>1</td>\n",
       "      <td>58777</td>\n",
       "      <td>11448</td>\n",
       "      <td>3209</td>\n",
       "      <td>439</td>\n",
       "      <td>curated list awesome python frameworks librari...</td>\n",
       "      <td>5.0</td>\n",
       "      <td>1.0</td>\n",
       "    </tr>\n",
       "    <tr>\n",
       "      <th>1</th>\n",
       "      <td>awesome-python</td>\n",
       "      <td>0.6249</td>\n",
       "      <td>2018-12-19</td>\n",
       "      <td>1</td>\n",
       "      <td>58801</td>\n",
       "      <td>11454</td>\n",
       "      <td>3209</td>\n",
       "      <td>439</td>\n",
       "      <td>curated list awesome python frameworks librari...</td>\n",
       "      <td>6.0</td>\n",
       "      <td>1.0</td>\n",
       "    </tr>\n",
       "    <tr>\n",
       "      <th>2</th>\n",
       "      <td>awesome-python</td>\n",
       "      <td>0.6249</td>\n",
       "      <td>2018-12-20</td>\n",
       "      <td>1</td>\n",
       "      <td>58840</td>\n",
       "      <td>11455</td>\n",
       "      <td>3209</td>\n",
       "      <td>439</td>\n",
       "      <td>curated list awesome python frameworks librari...</td>\n",
       "      <td>0.0</td>\n",
       "      <td>1.0</td>\n",
       "    </tr>\n",
       "    <tr>\n",
       "      <th>3</th>\n",
       "      <td>awesome-python</td>\n",
       "      <td>0.6249</td>\n",
       "      <td>2018-12-21</td>\n",
       "      <td>1</td>\n",
       "      <td>58882</td>\n",
       "      <td>11465</td>\n",
       "      <td>3209</td>\n",
       "      <td>440</td>\n",
       "      <td>curated list awesome python frameworks librari...</td>\n",
       "      <td>1.0</td>\n",
       "      <td>1.0</td>\n",
       "    </tr>\n",
       "    <tr>\n",
       "      <th>4</th>\n",
       "      <td>awesome-python</td>\n",
       "      <td>0.6249</td>\n",
       "      <td>2018-12-22</td>\n",
       "      <td>1</td>\n",
       "      <td>58936</td>\n",
       "      <td>11470</td>\n",
       "      <td>3209</td>\n",
       "      <td>439</td>\n",
       "      <td>curated list awesome python frameworks librari...</td>\n",
       "      <td>2.0</td>\n",
       "      <td>1.0</td>\n",
       "    </tr>\n",
       "  </tbody>\n",
       "</table>\n",
       "</div>"
      ],
      "text/plain": [
       "        repo_name  compound       date  rank  stars  forks  username  issues  \\\n",
       "0  awesome-python    0.6249 2018-12-18     1  58777  11448      3209     439   \n",
       "1  awesome-python    0.6249 2018-12-19     1  58801  11454      3209     439   \n",
       "2  awesome-python    0.6249 2018-12-20     1  58840  11455      3209     439   \n",
       "3  awesome-python    0.6249 2018-12-21     1  58882  11465      3209     440   \n",
       "4  awesome-python    0.6249 2018-12-22     1  58936  11470      3209     439   \n",
       "\n",
       "                                         description  days_since_lc  \\\n",
       "0  curated list awesome python frameworks librari...            5.0   \n",
       "1  curated list awesome python frameworks librari...            6.0   \n",
       "2  curated list awesome python frameworks librari...            0.0   \n",
       "3  curated list awesome python frameworks librari...            1.0   \n",
       "4  curated list awesome python frameworks librari...            2.0   \n",
       "\n",
       "   repos_by_user  \n",
       "0            1.0  \n",
       "1            1.0  \n",
       "2            1.0  \n",
       "3            1.0  \n",
       "4            1.0  "
      ]
     },
     "execution_count": 8,
     "metadata": {},
     "output_type": "execute_result"
    }
   ],
   "source": [
    "stopwords_words = stopwords.words('english')\n",
    "\n",
    "def remove_stopwords(df):\n",
    "    return \" \".join([word for word in df.split() if word not in stopwords_words])\n",
    "\n",
    "df['description'] = df['description'].apply(remove_stopwords)\n",
    "df.head()"
   ]
  },
  {
   "cell_type": "markdown",
   "metadata": {},
   "source": [
    "## Lemmatización"
   ]
  },
  {
   "cell_type": "code",
   "execution_count": 9,
   "metadata": {},
   "outputs": [
    {
     "data": {
      "text/plain": [
       "0    curated list awesome python framework library ...\n",
       "1    curated list awesome python framework library ...\n",
       "2    curated list awesome python framework library ...\n",
       "3    curated list awesome python framework library ...\n",
       "4    curated list awesome python framework library ...\n",
       "Name: description, dtype: object"
      ]
     },
     "execution_count": 9,
     "metadata": {},
     "output_type": "execute_result"
    }
   ],
   "source": [
    "def word_lemmatizer(x):\n",
    "    lemmatizer = WordNetLemmatizer()\n",
    "    return \" \".join([lemmatizer.lemmatize(word) for word in x.split()])\n",
    "\n",
    "df['description'] = df['description'].apply(word_lemmatizer)\n",
    "df['description'].head()"
   ]
  },
  {
   "cell_type": "markdown",
   "metadata": {},
   "source": [
    "## Vectorización"
   ]
  },
  {
   "cell_type": "code",
   "execution_count": 10,
   "metadata": {},
   "outputs": [],
   "source": [
    "vectorizer_c = CountVectorizer()\n",
    "vectorizer_c.fit(df['description'])\n",
    "\n",
    "X_baseline_c = vectorizer_c.transform(df['description'])"
   ]
  },
  {
   "cell_type": "code",
   "execution_count": 11,
   "metadata": {},
   "outputs": [
    {
     "data": {
      "text/plain": [
       "(168687, 6825)"
      ]
     },
     "execution_count": 11,
     "metadata": {},
     "output_type": "execute_result"
    }
   ],
   "source": [
    "X_baseline_c.shape"
   ]
  },
  {
   "cell_type": "markdown",
   "metadata": {},
   "source": [
    "## Clusterización"
   ]
  },
  {
   "cell_type": "code",
   "execution_count": 21,
   "metadata": {},
   "outputs": [],
   "source": [
    "kmeans_per_k = [MiniBatchKMeans(n_clusters=k, random_state=42).fit(X_baseline_c)\n",
    "                for k in range(2, 21)]\n",
    "inertias = [model.inertia_ for model in kmeans_per_k]"
   ]
  },
  {
   "cell_type": "code",
   "execution_count": 23,
   "metadata": {},
   "outputs": [
    {
     "data": {
      "image/png": "[encoded data removed]",
      "text/plain": [
       "<Figure size 800x350 with 1 Axes>"
      ]
     },
     "metadata": {},
     "output_type": "display_data"
    }
   ],
   "source": [
    "plt.figure(figsize=(8, 3.5))\n",
    "plt.plot(range(2, 21), inertias, \"bo-\")\n",
    "plt.xlabel(\"$k$\", fontsize=14)\n",
    "plt.ylabel(\"Inertia\", fontsize=14)\n",
    "\n",
    "\n",
    "plt.show()"
   ]
  },
  {
   "cell_type": "code",
   "execution_count": 27,
   "metadata": {},
   "outputs": [],
   "source": [
    "silhouette_scores = [silhouette_score(X_baseline_c, model.labels_)\n",
    "                     for model in kmeans_per_k[2:12]]"
   ]
  },
  {
   "cell_type": "code",
   "execution_count": 28,
   "metadata": {},
   "outputs": [
    {
     "data": {
      "image/png": "[encoded data removed]",
      "text/plain": [
       "<Figure size 800x300 with 1 Axes>"
      ]
     },
     "metadata": {},
     "output_type": "display_data"
    }
   ],
   "source": [
    "plt.figure(figsize=(8, 3))\n",
    "plt.plot(range(2, 12), silhouette_scores, \"bo-\")\n",
    "plt.xlabel(\"$k$\", fontsize=14)\n",
    "plt.ylabel(\"Silhouette score\", fontsize=14)\n",
    "plt.show()"
   ]
  },
  {
   "cell_type": "code",
   "execution_count": 11,
   "metadata": {},
   "outputs": [],
   "source": [
    "kmeans = MiniBatchKMeans(8, random_state=42).fit(X_baseline_c)"
   ]
  },
  {
   "cell_type": "code",
   "execution_count": 12,
   "metadata": {},
   "outputs": [
    {
     "data": {
      "text/html": [
       "<div>\n",
       "<style scoped>\n",
       "    .dataframe tbody tr th:only-of-type {\n",
       "        vertical-align: middle;\n",
       "    }\n",
       "\n",
       "    .dataframe tbody tr th {\n",
       "        vertical-align: top;\n",
       "    }\n",
       "\n",
       "    .dataframe thead th {\n",
       "        text-align: right;\n",
       "    }\n",
       "</style>\n",
       "<table border=\"1\" class=\"dataframe\">\n",
       "  <thead>\n",
       "    <tr style=\"text-align: right;\">\n",
       "      <th></th>\n",
       "      <th>repo_name</th>\n",
       "      <th>compound</th>\n",
       "      <th>date</th>\n",
       "      <th>rank</th>\n",
       "      <th>stars</th>\n",
       "      <th>forks</th>\n",
       "      <th>username</th>\n",
       "      <th>issues</th>\n",
       "      <th>description</th>\n",
       "      <th>days_since_lc</th>\n",
       "      <th>repos_by_user</th>\n",
       "      <th>cluster</th>\n",
       "    </tr>\n",
       "  </thead>\n",
       "  <tbody>\n",
       "    <tr>\n",
       "      <th>0</th>\n",
       "      <td>awesome-python</td>\n",
       "      <td>0.6249</td>\n",
       "      <td>2018-12-18</td>\n",
       "      <td>1</td>\n",
       "      <td>58777</td>\n",
       "      <td>11448</td>\n",
       "      <td>3209</td>\n",
       "      <td>439</td>\n",
       "      <td>curated list awesome python framework library ...</td>\n",
       "      <td>5.0</td>\n",
       "      <td>1.0</td>\n",
       "      <td>4</td>\n",
       "    </tr>\n",
       "    <tr>\n",
       "      <th>1</th>\n",
       "      <td>awesome-python</td>\n",
       "      <td>0.6249</td>\n",
       "      <td>2018-12-19</td>\n",
       "      <td>1</td>\n",
       "      <td>58801</td>\n",
       "      <td>11454</td>\n",
       "      <td>3209</td>\n",
       "      <td>439</td>\n",
       "      <td>curated list awesome python framework library ...</td>\n",
       "      <td>6.0</td>\n",
       "      <td>1.0</td>\n",
       "      <td>4</td>\n",
       "    </tr>\n",
       "    <tr>\n",
       "      <th>2</th>\n",
       "      <td>awesome-python</td>\n",
       "      <td>0.6249</td>\n",
       "      <td>2018-12-20</td>\n",
       "      <td>1</td>\n",
       "      <td>58840</td>\n",
       "      <td>11455</td>\n",
       "      <td>3209</td>\n",
       "      <td>439</td>\n",
       "      <td>curated list awesome python framework library ...</td>\n",
       "      <td>0.0</td>\n",
       "      <td>1.0</td>\n",
       "      <td>4</td>\n",
       "    </tr>\n",
       "    <tr>\n",
       "      <th>3</th>\n",
       "      <td>awesome-python</td>\n",
       "      <td>0.6249</td>\n",
       "      <td>2018-12-21</td>\n",
       "      <td>1</td>\n",
       "      <td>58882</td>\n",
       "      <td>11465</td>\n",
       "      <td>3209</td>\n",
       "      <td>440</td>\n",
       "      <td>curated list awesome python framework library ...</td>\n",
       "      <td>1.0</td>\n",
       "      <td>1.0</td>\n",
       "      <td>4</td>\n",
       "    </tr>\n",
       "    <tr>\n",
       "      <th>4</th>\n",
       "      <td>awesome-python</td>\n",
       "      <td>0.6249</td>\n",
       "      <td>2018-12-22</td>\n",
       "      <td>1</td>\n",
       "      <td>58936</td>\n",
       "      <td>11470</td>\n",
       "      <td>3209</td>\n",
       "      <td>439</td>\n",
       "      <td>curated list awesome python framework library ...</td>\n",
       "      <td>2.0</td>\n",
       "      <td>1.0</td>\n",
       "      <td>4</td>\n",
       "    </tr>\n",
       "  </tbody>\n",
       "</table>\n",
       "</div>"
      ],
      "text/plain": [
       "        repo_name  compound       date  rank  stars  forks  username  issues  \\\n",
       "0  awesome-python    0.6249 2018-12-18     1  58777  11448      3209     439   \n",
       "1  awesome-python    0.6249 2018-12-19     1  58801  11454      3209     439   \n",
       "2  awesome-python    0.6249 2018-12-20     1  58840  11455      3209     439   \n",
       "3  awesome-python    0.6249 2018-12-21     1  58882  11465      3209     440   \n",
       "4  awesome-python    0.6249 2018-12-22     1  58936  11470      3209     439   \n",
       "\n",
       "                                         description  days_since_lc  \\\n",
       "0  curated list awesome python framework library ...            5.0   \n",
       "1  curated list awesome python framework library ...            6.0   \n",
       "2  curated list awesome python framework library ...            0.0   \n",
       "3  curated list awesome python framework library ...            1.0   \n",
       "4  curated list awesome python framework library ...            2.0   \n",
       "\n",
       "   repos_by_user  cluster  \n",
       "0            1.0        4  \n",
       "1            1.0        4  \n",
       "2            1.0        4  \n",
       "3            1.0        4  \n",
       "4            1.0        4  "
      ]
     },
     "execution_count": 12,
     "metadata": {},
     "output_type": "execute_result"
    }
   ],
   "source": [
    "df['cluster'] = kmeans.labels_\n",
    "df.head()"
   ]
  },
  {
   "cell_type": "code",
   "execution_count": 13,
   "metadata": {},
   "outputs": [],
   "source": [
    "cluster_texts_dict = {i: [] for i in range(8)}\n",
    "for index, row in df.iterrows():\n",
    "    cluster_texts_dict[row['cluster']].append(row['description'])"
   ]
  },
  {
   "cell_type": "code",
   "execution_count": 14,
   "metadata": {},
   "outputs": [],
   "source": [
    "cluster_data = [{'cluster_id': cluster_id, 'text': text} for cluster_id, texts in cluster_texts_dict.items() for text in texts]"
   ]
  },
  {
   "cell_type": "code",
   "execution_count": 15,
   "metadata": {},
   "outputs": [],
   "source": [
    "cluster_df = pd.DataFrame(cluster_data)"
   ]
  },
  {
   "cell_type": "code",
   "execution_count": 16,
   "metadata": {},
   "outputs": [],
   "source": [
    "cluster_df.drop_duplicates(inplace=True)"
   ]
  },
  {
   "cell_type": "code",
   "execution_count": 17,
   "metadata": {},
   "outputs": [],
   "source": [
    "cluster_0 = cluster_df[cluster_df[\"cluster_id\"] == 0]\n",
    "cluster_1 = cluster_df[cluster_df[\"cluster_id\"] == 1]\n",
    "cluster_2 = cluster_df[cluster_df[\"cluster_id\"] == 2]\n",
    "cluster_3 = cluster_df[cluster_df[\"cluster_id\"] == 3]\n",
    "cluster_4 = cluster_df[cluster_df[\"cluster_id\"] == 4]\n",
    "cluster_5 = cluster_df[cluster_df[\"cluster_id\"] == 5]\n",
    "cluster_6 = cluster_df[cluster_df[\"cluster_id\"] == 6]\n",
    "cluster_7 = cluster_df[cluster_df[\"cluster_id\"] == 7]"
   ]
  },
  {
   "cell_type": "markdown",
   "metadata": {},
   "source": [
    "### Análisis de los cluster 0"
   ]
  },
  {
   "cell_type": "code",
   "execution_count": 18,
   "metadata": {},
   "outputs": [
    {
     "data": {
      "text/html": [
       "<div>\n",
       "<style scoped>\n",
       "    .dataframe tbody tr th:only-of-type {\n",
       "        vertical-align: middle;\n",
       "    }\n",
       "\n",
       "    .dataframe tbody tr th {\n",
       "        vertical-align: top;\n",
       "    }\n",
       "\n",
       "    .dataframe thead th {\n",
       "        text-align: right;\n",
       "    }\n",
       "</style>\n",
       "<table border=\"1\" class=\"dataframe\">\n",
       "  <thead>\n",
       "    <tr style=\"text-align: right;\">\n",
       "      <th></th>\n",
       "      <th>cluster_id</th>\n",
       "      <th>text</th>\n",
       "      <th>tokenized_column</th>\n",
       "    </tr>\n",
       "  </thead>\n",
       "  <tbody>\n",
       "    <tr>\n",
       "      <th>0</th>\n",
       "      <td>0</td>\n",
       "      <td>raven legacy python client sentry getsentrycom...</td>\n",
       "      <td>[raven, legacy, python, client, sentry, getsen...</td>\n",
       "    </tr>\n",
       "    <tr>\n",
       "      <th>2</th>\n",
       "      <td>0</td>\n",
       "      <td>openai python library provides convenient acce...</td>\n",
       "      <td>[openai, python, library, provides, convenient...</td>\n",
       "    </tr>\n",
       "    <tr>\n",
       "      <th>13</th>\n",
       "      <td>0</td>\n",
       "      <td>python fire library automatically generating c...</td>\n",
       "      <td>[python, fire, library, automatically, generat...</td>\n",
       "    </tr>\n",
       "    <tr>\n",
       "      <th>1221</th>\n",
       "      <td>0</td>\n",
       "      <td>exploring python counter-intuitive snippet thi...</td>\n",
       "      <td>[exploring, python, counter-intuitive, snippet...</td>\n",
       "    </tr>\n",
       "    <tr>\n",
       "      <th>1238</th>\n",
       "      <td>0</td>\n",
       "      <td>artistic qr code python animated gif qr code- ...</td>\n",
       "      <td>[artistic, qr, code, python, animated, gif, qr...</td>\n",
       "    </tr>\n",
       "  </tbody>\n",
       "</table>\n",
       "</div>"
      ],
      "text/plain": [
       "      cluster_id                                               text  \\\n",
       "0              0  raven legacy python client sentry getsentrycom...   \n",
       "2              0  openai python library provides convenient acce...   \n",
       "13             0  python fire library automatically generating c...   \n",
       "1221           0  exploring python counter-intuitive snippet thi...   \n",
       "1238           0  artistic qr code python animated gif qr code- ...   \n",
       "\n",
       "                                       tokenized_column  \n",
       "0     [raven, legacy, python, client, sentry, getsen...  \n",
       "2     [openai, python, library, provides, convenient...  \n",
       "13    [python, fire, library, automatically, generat...  \n",
       "1221  [exploring, python, counter-intuitive, snippet...  \n",
       "1238  [artistic, qr, code, python, animated, gif, qr...  "
      ]
     },
     "execution_count": 18,
     "metadata": {},
     "output_type": "execute_result"
    }
   ],
   "source": [
    "def tokenize_text(text):\n",
    "    return word_tokenize(text)\n",
    "\n",
    "cluster_0['tokenized_column'] = cluster_0['text'].apply(tokenize_text)\n",
    "\n",
    "cluster_0.head()"
   ]
  },
  {
   "cell_type": "code",
   "execution_count": 19,
   "metadata": {},
   "outputs": [],
   "source": [
    "cluster_0_words = []\n",
    "\n",
    "for x in cluster_0[\"tokenized_column\"]:\n",
    "    cluster_0_words.append(x)\n",
    "\n"
   ]
  },
  {
   "cell_type": "code",
   "execution_count": 20,
   "metadata": {},
   "outputs": [
    {
     "data": {
      "text/plain": [
       "['raven',\n",
       " 'legacy',\n",
       " 'python',\n",
       " 'client',\n",
       " 'sentry',\n",
       " 'getsentrycom',\n",
       " '—',\n",
       " 'replaced',\n",
       " 'sentry-python',\n",
       " 'openai',\n",
       " 'python',\n",
       " 'library',\n",
       " 'provides',\n",
       " 'convenient',\n",
       " 'access',\n",
       " 'openai',\n",
       " 'api',\n",
       " 'application',\n",
       " 'written',\n",
       " 'python',\n",
       " 'language',\n",
       " 'python',\n",
       " 'fire',\n",
       " 'library',\n",
       " 'automatically',\n",
       " 'generating',\n",
       " 'command',\n",
       " 'line',\n",
       " 'interface',\n",
       " 'cli',\n",
       " 'absolutely',\n",
       " 'python',\n",
       " 'object',\n",
       " 'exploring',\n",
       " 'python',\n",
       " 'counter-intuitive',\n",
       " 'snippet',\n",
       " 'think',\n",
       " 'know',\n",
       " 'python',\n",
       " 'think',\n",
       " 'artistic',\n",
       " 'qr',\n",
       " 'code',\n",
       " 'python',\n",
       " 'animated',\n",
       " 'gif',\n",
       " 'qr',\n",
       " 'code-',\n",
       " 'python',\n",
       " 'gif',\n",
       " 'comprehensive',\n",
       " 'python',\n",
       " 'cheatsheet',\n",
       " 'textual',\n",
       " 'rapid',\n",
       " 'application',\n",
       " 'development',\n",
       " 'framework',\n",
       " 'python',\n",
       " 'build',\n",
       " 'sophisticated',\n",
       " 'user',\n",
       " 'interface',\n",
       " 'simple',\n",
       " 'python',\n",
       " 'api',\n",
       " 'run',\n",
       " 'apps',\n",
       " 'terminal',\n",
       " 'coming',\n",
       " 'soon',\n",
       " 'web',\n",
       " 'browser',\n",
       " 'lean',\n",
       " 'application',\n",
       " 'framework',\n",
       " 'python',\n",
       " 'build',\n",
       " 'sophisticated',\n",
       " 'user',\n",
       " 'interface',\n",
       " 'simple',\n",
       " 'python',\n",
       " 'api',\n",
       " 'run',\n",
       " 'apps',\n",
       " 'terminal',\n",
       " 'web',\n",
       " 'browser',\n",
       " 'playground',\n",
       " 'cheatsheet',\n",
       " 'learning',\n",
       " 'python',\n",
       " 'collection',\n",
       " 'python',\n",
       " 'script',\n",
       " 'split',\n",
       " 'topic',\n",
       " 'contain',\n",
       " 'code',\n",
       " 'example',\n",
       " 'explanation',\n",
       " 'collection',\n",
       " 'simple',\n",
       " 'python',\n",
       " 'mini',\n",
       " 'project',\n",
       " 'enhance',\n",
       " 'python',\n",
       " 'skill',\n",
       " 'day',\n",
       " 'python',\n",
       " 'programming',\n",
       " 'challenge',\n",
       " 'step-by-step',\n",
       " 'guide',\n",
       " 'learn',\n",
       " 'python',\n",
       " 'programming',\n",
       " 'language',\n",
       " 'day',\n",
       " 'challenge',\n",
       " 'may',\n",
       " 'take',\n",
       " 'day',\n",
       " 'follow',\n",
       " 'pace',\n",
       " 'day',\n",
       " 'python',\n",
       " 'programming',\n",
       " 'challenge',\n",
       " 'step-by-step',\n",
       " 'guide',\n",
       " 'learn',\n",
       " 'python',\n",
       " 'programming',\n",
       " 'language',\n",
       " 'day',\n",
       " 'challenge',\n",
       " 'may',\n",
       " 'take',\n",
       " 'day',\n",
       " 'follow',\n",
       " 'pace',\n",
       " 'video',\n",
       " 'may',\n",
       " 'help',\n",
       " 'https//wwwyoutubecom/channel/ucpnrunorzypbxlayktw',\n",
       " 'amazing',\n",
       " 'qrcode',\n",
       " 'generator',\n",
       " 'python',\n",
       " 'supporting',\n",
       " 'animated',\n",
       " 'gif',\n",
       " '-',\n",
       " 'python',\n",
       " 'amazing',\n",
       " 'gif',\n",
       " 'python',\n",
       " 'python',\n",
       " 'python',\n",
       " 'http//wwwzglgwork',\n",
       " 'scapy',\n",
       " 'python-based',\n",
       " 'interactive',\n",
       " 'packet',\n",
       " 'manipulation',\n",
       " 'program',\n",
       " '&',\n",
       " 'library',\n",
       " 'support',\n",
       " 'python',\n",
       " '&',\n",
       " 'python',\n",
       " 'python',\n",
       " 'client',\n",
       " 'baidu',\n",
       " 'yun',\n",
       " 'personal',\n",
       " 'cloud',\n",
       " 'storage',\n",
       " '/python',\n",
       " 'comprehensive',\n",
       " 'scalable',\n",
       " 'python',\n",
       " 'library',\n",
       " 'outlier',\n",
       " 'detection',\n",
       " 'anomaly',\n",
       " 'detection',\n",
       " 'nuitka',\n",
       " 'python',\n",
       " 'compiler',\n",
       " 'written',\n",
       " 'python',\n",
       " 'fully',\n",
       " 'compatible',\n",
       " 'python',\n",
       " 'feed',\n",
       " 'python',\n",
       " 'app',\n",
       " 'lot',\n",
       " 'clever',\n",
       " 'thing',\n",
       " 'spit',\n",
       " 'executable',\n",
       " 'extension',\n",
       " 'module',\n",
       " 'brython',\n",
       " 'browser',\n",
       " 'python',\n",
       " 'implementation',\n",
       " 'python',\n",
       " 'running',\n",
       " 'browser',\n",
       " 'python',\n",
       " 'koan',\n",
       " '-',\n",
       " 'learn',\n",
       " 'python',\n",
       " 'tdd',\n",
       " 'simple',\n",
       " 'python',\n",
       " 'style',\n",
       " 'checker',\n",
       " 'one',\n",
       " 'python',\n",
       " 'file',\n",
       " 'python',\n",
       " 'basic',\n",
       " 'practical',\n",
       " 'introduction',\n",
       " 'python',\n",
       " 'selenium-python',\n",
       " 'lighter',\n",
       " 'helium',\n",
       " 'best',\n",
       " 'python',\n",
       " 'library',\n",
       " 'web',\n",
       " 'automation',\n",
       " 'python',\n",
       " '/',\n",
       " 'asynchronous',\n",
       " 'multi-platform',\n",
       " 'chatbot',\n",
       " 'framework',\n",
       " 'written',\n",
       " 'python',\n",
       " 'modernizes',\n",
       " 'python',\n",
       " 'code',\n",
       " 'eventual',\n",
       " 'python',\n",
       " 'migration',\n",
       " 'build',\n",
       " 'top',\n",
       " 'crab',\n",
       " 'exible',\n",
       " 'fast',\n",
       " 'recommender',\n",
       " 'engine',\n",
       " 'python',\n",
       " 'integrates',\n",
       " 'classic',\n",
       " 'information',\n",
       " 'ltering',\n",
       " 'recommendation',\n",
       " 'algorithm',\n",
       " 'world',\n",
       " 'scientic',\n",
       " 'python',\n",
       " 'package',\n",
       " 'numpy',\n",
       " 'scipy',\n",
       " 'matplotlib',\n",
       " 'repository',\n",
       " 'active',\n",
       " 'development',\n",
       " 'azure',\n",
       " 'sdk',\n",
       " 'python',\n",
       " 'consumer',\n",
       " 'sdk',\n",
       " 'recommend',\n",
       " 'visiting',\n",
       " 'public',\n",
       " 'developer',\n",
       " 'doc',\n",
       " 'https//docsmicrosoftcom/python/azure/',\n",
       " 'versioned',\n",
       " 'developer',\n",
       " 'doc',\n",
       " 'https//azuregithubio/azure-sdk-for-python',\n",
       " 'python',\n",
       " 'regex',\n",
       " 'regex',\n",
       " 'python',\n",
       " 'yregex',\n",
       " 'human',\n",
       " 'implementation',\n",
       " 'hashids',\n",
       " 'http//hashidsorg',\n",
       " 'python',\n",
       " 'compatible',\n",
       " 'python',\n",
       " 'python',\n",
       " 'weixin',\n",
       " 'pay',\n",
       " 'python',\n",
       " 'zwczou',\n",
       " 'https//githubcom/zwczou/weixin-python',\n",
       " 'python',\n",
       " 'library',\n",
       " 'writing',\n",
       " 'long',\n",
       " 'running',\n",
       " 'process',\n",
       " 'cli',\n",
       " 'interface',\n",
       " 'python',\n",
       " \"'s\",\n",
       " 'stdlib',\n",
       " 'csv',\n",
       " 'module',\n",
       " 'nice',\n",
       " 'support',\n",
       " 'unicode',\n",
       " 'module',\n",
       " 'drop-in',\n",
       " 'replacement',\n",
       " '*',\n",
       " 'does',\n",
       " '*',\n",
       " 'prefer',\n",
       " 'python',\n",
       " \"'s\",\n",
       " 'semantics',\n",
       " 'need',\n",
       " 'support',\n",
       " 'py',\n",
       " 'probably',\n",
       " 'want',\n",
       " 'https//githubcom/ryanhiebert/backportscsv',\n",
       " 'python',\n",
       " '+',\n",
       " 'inference',\n",
       " '-',\n",
       " 'model',\n",
       " 'deployment',\n",
       " 'library',\n",
       " 'python',\n",
       " 'simplest',\n",
       " 'model',\n",
       " 'inference',\n",
       " 'server',\n",
       " 'ever',\n",
       " 'python',\n",
       " 'one-liner',\n",
       " 'awk-like',\n",
       " 'one-liner',\n",
       " 'python',\n",
       " 'python',\n",
       " 'function',\n",
       " 'reading',\n",
       " 'kaldi',\n",
       " 'data',\n",
       " 'format',\n",
       " 'useful',\n",
       " 'rapid',\n",
       " 'prototyping',\n",
       " 'python',\n",
       " 'bakthat',\n",
       " 'mit',\n",
       " 'licensed',\n",
       " 'backup',\n",
       " 'framework',\n",
       " 'written',\n",
       " 'python',\n",
       " 'command',\n",
       " 'line',\n",
       " 'tool',\n",
       " 'python',\n",
       " 'module',\n",
       " 'help',\n",
       " 'manage',\n",
       " 'backup',\n",
       " 'amazon',\n",
       " 's/glacier',\n",
       " 'openstack',\n",
       " 'swift',\n",
       " 'automatically',\n",
       " 'compress',\n",
       " 'encrypt',\n",
       " 'symmetric',\n",
       " 'encryption',\n",
       " 'upload',\n",
       " 'file',\n",
       " 'recommender',\n",
       " 'system',\n",
       " 'evaluation',\n",
       " 'framework',\n",
       " 'top-n',\n",
       " 'recommendation',\n",
       " 'task',\n",
       " 'respect',\n",
       " 'polarity',\n",
       " 'feedback',\n",
       " 'fast',\n",
       " 'flexible',\n",
       " 'easy',\n",
       " 'use',\n",
       " 'written',\n",
       " 'python',\n",
       " 'boosted',\n",
       " 'scientific',\n",
       " 'python',\n",
       " 'stack',\n",
       " 'python',\n",
       " 'tip',\n",
       " 'contains',\n",
       " 'code',\n",
       " 'snippet',\n",
       " 'help',\n",
       " 'learn',\n",
       " 'python',\n",
       " 'python',\n",
       " 'implementation',\n",
       " 'python',\n",
       " 'bytecode',\n",
       " 'runner',\n",
       " 'python',\n",
       " 'clone',\n",
       " 'spark',\n",
       " 'mapreduce',\n",
       " 'alike',\n",
       " 'framework',\n",
       " 'python',\n",
       " 'example',\n",
       " 'using',\n",
       " 'python',\n",
       " 'twitter',\n",
       " 'social',\n",
       " 'data',\n",
       " 'mining',\n",
       " 'using',\n",
       " 'python-twitter-tools',\n",
       " 'framework',\n",
       " 'arknights',\n",
       " 'auto',\n",
       " 'helper',\n",
       " 'based',\n",
       " 'adb',\n",
       " 'python',\n",
       " '|',\n",
       " 'python']"
      ]
     },
     "execution_count": 20,
     "metadata": {},
     "output_type": "execute_result"
    }
   ],
   "source": [
    "concatenated_cluster0 = [item for sublist in cluster_0_words for item in sublist]\n",
    "concatenated_cluster0"
   ]
  },
  {
   "cell_type": "code",
   "execution_count": 21,
   "metadata": {},
   "outputs": [
    {
     "data": {
      "text/plain": [
       "[('python', 79),\n",
       " ('library', 7),\n",
       " ('framework', 7),\n",
       " ('day', 6),\n",
       " ('written', 5),\n",
       " ('interface', 4),\n",
       " ('code', 4),\n",
       " ('gif', 4),\n",
       " ('simple', 4),\n",
       " ('browser', 4)]"
      ]
     },
     "execution_count": 21,
     "metadata": {},
     "output_type": "execute_result"
    }
   ],
   "source": [
    "word_freq = Counter(concatenated_cluster0)\n",
    "\n",
    "word_freq.most_common(10)"
   ]
  },
  {
   "cell_type": "markdown",
   "metadata": {},
   "source": [
    "### Análisis cluster 1"
   ]
  },
  {
   "cell_type": "code",
   "execution_count": 22,
   "metadata": {},
   "outputs": [
    {
     "data": {
      "text/plain": [
       "[('python', 824),\n",
       " ('learning', 325),\n",
       " ('library', 188),\n",
       " ('deep', 142),\n",
       " ('framework', 126),\n",
       " ('machine', 99),\n",
       " ('application', 81),\n",
       " ('api', 76),\n",
       " ('web', 73),\n",
       " ('data', 70)]"
      ]
     },
     "execution_count": 22,
     "metadata": {},
     "output_type": "execute_result"
    }
   ],
   "source": [
    "cluster_1['tokenized_column'] = cluster_1['text'].apply(tokenize_text)\n",
    "\n",
    "cluster_1_words = []\n",
    "\n",
    "for x in cluster_1[\"tokenized_column\"]:\n",
    "    cluster_1_words.append(x)\n",
    "\n",
    "concatenated_cluster1 = [item for sublist in cluster_1_words for item in sublist]\n",
    "\n",
    "word_freq = Counter(concatenated_cluster1)\n",
    "\n",
    "word_freq.most_common(10)"
   ]
  },
  {
   "cell_type": "markdown",
   "metadata": {},
   "source": [
    "### Análisis cluster 2"
   ]
  },
  {
   "cell_type": "code",
   "execution_count": 23,
   "metadata": {},
   "outputs": [
    {
     "data": {
      "text/plain": [
       "[('-', 15),\n",
       " ('--', 9),\n",
       " ('&', 5),\n",
       " ('“', 4),\n",
       " ('”', 4),\n",
       " ('nlp', 4),\n",
       " ('chinese', 2),\n",
       " ('//itbert', 1),\n",
       " ('coconlpxlorenlucsn', 1),\n",
       " ('/+asr', 1)]"
      ]
     },
     "execution_count": 23,
     "metadata": {},
     "output_type": "execute_result"
    }
   ],
   "source": [
    "cluster_2['tokenized_column'] = cluster_2['text'].apply(tokenize_text)\n",
    "\n",
    "cluster_2_words = []\n",
    "\n",
    "for x in cluster_2[\"tokenized_column\"]:\n",
    "    cluster_2_words.append(x)\n",
    "\n",
    "concatenated_cluster2 = [item for sublist in cluster_2_words for item in sublist]\n",
    "\n",
    "word_freq = Counter(concatenated_cluster2)\n",
    "\n",
    "word_freq.most_common(10)"
   ]
  },
  {
   "cell_type": "markdown",
   "metadata": {},
   "source": [
    "### Análisis cluster 3"
   ]
  },
  {
   "cell_type": "code",
   "execution_count": 24,
   "metadata": {},
   "outputs": [
    {
     "data": {
      "text/plain": [
       "[('web', 22),\n",
       " ('django', 20),\n",
       " ('change', 20),\n",
       " ('free', 19),\n",
       " ('detection', 14),\n",
       " ('monitor', 13),\n",
       " ('website', 12),\n",
       " ('apis', 11),\n",
       " ('open', 11),\n",
       " ('source', 11)]"
      ]
     },
     "execution_count": 24,
     "metadata": {},
     "output_type": "execute_result"
    }
   ],
   "source": [
    "cluster_3['tokenized_column'] = cluster_3['text'].apply(tokenize_text)\n",
    "\n",
    "cluster_3_words = []\n",
    "\n",
    "for x in cluster_3[\"tokenized_column\"]:\n",
    "    cluster_3_words.append(x)\n",
    "\n",
    "concatenated_cluster3 = [item for sublist in cluster_3_words for item in sublist]\n",
    "\n",
    "word_freq = Counter(concatenated_cluster3)\n",
    "\n",
    "word_freq.most_common(10)"
   ]
  },
  {
   "cell_type": "markdown",
   "metadata": {},
   "source": [
    "### Análisis cluster 4"
   ]
  },
  {
   "cell_type": "code",
   "execution_count": 47,
   "metadata": {},
   "outputs": [
    {
     "data": {
      "text/plain": [
       "[('list', 8),\n",
       " ('awesome', 7),\n",
       " ('library', 7),\n",
       " ('curated', 5),\n",
       " ('resource', 5),\n",
       " ('framework', 4),\n",
       " ('software', 3),\n",
       " ('python', 2),\n",
       " ('machine', 2),\n",
       " ('learning', 2)]"
      ]
     },
     "execution_count": 47,
     "metadata": {},
     "output_type": "execute_result"
    }
   ],
   "source": [
    "cluster_4['tokenized_column'] = cluster_4['text'].apply(tokenize_text)\n",
    "\n",
    "cluster_4_words = []\n",
    "\n",
    "for x in cluster_4[\"tokenized_column\"]:\n",
    "    cluster_4_words.append(x)\n",
    "\n",
    "concatenated_cluster4 = [item for sublist in cluster_4_words for item in sublist]\n",
    "\n",
    "word_freq = Counter(concatenated_cluster4)\n",
    "\n",
    "word_freq.most_common(10)"
   ]
  },
  {
   "cell_type": "markdown",
   "metadata": {},
   "source": [
    "### Análisis cluster 5"
   ]
  },
  {
   "cell_type": "code",
   "execution_count": 48,
   "metadata": {},
   "outputs": [
    {
     "data": {
      "text/plain": [
       "[('data', 79),\n",
       " ('python', 8),\n",
       " ('&', 8),\n",
       " ('database', 6),\n",
       " ('science', 5),\n",
       " ('analysis', 5),\n",
       " ('structure', 4),\n",
       " ('text', 4),\n",
       " ('store', 4),\n",
       " ('image', 4)]"
      ]
     },
     "execution_count": 48,
     "metadata": {},
     "output_type": "execute_result"
    }
   ],
   "source": [
    "cluster_5['tokenized_column'] = cluster_5['text'].apply(tokenize_text)\n",
    "\n",
    "cluster_5_words = []\n",
    "\n",
    "for x in cluster_5[\"tokenized_column\"]:\n",
    "    cluster_5_words.append(x)\n",
    "\n",
    "concatenated_cluster5 = [item for sublist in cluster_5_words for item in sublist]\n",
    "\n",
    "word_freq = Counter(concatenated_cluster5)\n",
    "\n",
    "word_freq.most_common(10)"
   ]
  },
  {
   "cell_type": "markdown",
   "metadata": {},
   "source": [
    "### Análisis cluster 6"
   ]
  },
  {
   "cell_type": "code",
   "execution_count": 56,
   "metadata": {},
   "outputs": [
    {
     "data": {
      "text/plain": [
       "[('“', 268),\n",
       " ('”', 260),\n",
       " ('model', 233),\n",
       " ('implementation', 199),\n",
       " ('pytorch', 182),\n",
       " ('network', 173),\n",
       " ('tool', 165),\n",
       " ('code', 158),\n",
       " ('tensorflow', 152),\n",
       " ('image', 135)]"
      ]
     },
     "execution_count": 56,
     "metadata": {},
     "output_type": "execute_result"
    }
   ],
   "source": [
    "cluster_6['tokenized_column'] = cluster_6['text'].apply(tokenize_text)\n",
    "\n",
    "cluster_6_words = []\n",
    "\n",
    "for x in cluster_6[\"tokenized_column\"]:\n",
    "    cluster_6_words.append(x)\n",
    "\n",
    "concatenated_cluster6 = [item for sublist in cluster_6_words for item in sublist]\n",
    "\n",
    "word_freq = Counter(concatenated_cluster6)\n",
    "\n",
    "word_freq.most_common(10)"
   ]
  },
  {
   "cell_type": "markdown",
   "metadata": {},
   "source": [
    "### Análisis cluster 7"
   ]
  },
  {
   "cell_type": "code",
   "execution_count": 50,
   "metadata": {},
   "outputs": [
    {
     "data": {
      "text/plain": [
       "[('collection', 1), ('design', 1), ('patterns/idioms', 1), ('python', 1)]"
      ]
     },
     "execution_count": 50,
     "metadata": {},
     "output_type": "execute_result"
    }
   ],
   "source": [
    "cluster_7['tokenized_column'] = cluster_7['text'].apply(tokenize_text)\n",
    "\n",
    "cluster_7_words = []\n",
    "\n",
    "for x in cluster_7[\"tokenized_column\"]:\n",
    "    cluster_7_words.append(x)\n",
    "\n",
    "concatenated_cluster7 = [item for sublist in cluster_7_words for item in sublist]\n",
    "\n",
    "word_freq = Counter(concatenated_cluster7)\n",
    "\n",
    "word_freq.most_common(10)"
   ]
  },
  {
   "cell_type": "markdown",
   "metadata": {},
   "source": [
    "## EDA NLP"
   ]
  },
  {
   "cell_type": "code",
   "execution_count": 62,
   "metadata": {},
   "outputs": [
    {
     "data": {
      "text/plain": [
       "<Axes: >"
      ]
     },
     "execution_count": 62,
     "metadata": {},
     "output_type": "execute_result"
    },
    {
     "data": {
      "image/png": "[encoded data removed]",
      "text/plain": [
       "<Figure size 640x480 with 1 Axes>"
      ]
     },
     "metadata": {},
     "output_type": "display_data"
    }
   ],
   "source": [
    "df[\"compound\"].hist()"
   ]
  },
  {
   "cell_type": "code",
   "execution_count": 63,
   "metadata": {},
   "outputs": [
    {
     "data": {
      "text/plain": [
       "<Axes: xlabel='cluster', ylabel='Count'>"
      ]
     },
     "execution_count": 63,
     "metadata": {},
     "output_type": "execute_result"
    },
    {
     "data": {
      "image/png": "[encoded data removed]",
      "text/plain": [
       "<Figure size 640x480 with 1 Axes>"
      ]
     },
     "metadata": {},
     "output_type": "display_data"
    }
   ],
   "source": [
    "sns.histplot(df, x=\"cluster\", discrete=True)"
   ]
  },
  {
   "cell_type": "code",
   "execution_count": 74,
   "metadata": {},
   "outputs": [
    {
     "data": {
      "text/plain": [
       "<Axes: xlabel='compound', ylabel='forks'>"
      ]
     },
     "execution_count": 74,
     "metadata": {},
     "output_type": "execute_result"
    },
    {
     "data": {
      "image/png": "[encoded data removed]",
      "text/plain": [
       "<Figure size 640x480 with 1 Axes>"
      ]
     },
     "metadata": {},
     "output_type": "display_data"
    }
   ],
   "source": [
    "sns.scatterplot(data=df, x=\"compound\", y=\"forks\")"
   ]
  },
  {
   "cell_type": "code",
   "execution_count": 66,
   "metadata": {},
   "outputs": [
    {
     "data": {
      "text/plain": [
       "<seaborn.axisgrid.FacetGrid at 0x21ee228b1a0>"
      ]
     },
     "execution_count": 66,
     "metadata": {},
     "output_type": "execute_result"
    },
    {
     "data": {
      "image/png": "[encoded data removed]",
      "text/plain": [
       "<Figure size 511.111x500 with 1 Axes>"
      ]
     },
     "metadata": {},
     "output_type": "display_data"
    }
   ],
   "source": [
    "sns.catplot(data=df, x=\"cluster\", y=\"forks\")"
   ]
  },
  {
   "cell_type": "code",
   "execution_count": 33,
   "metadata": {},
   "outputs": [
    {
     "data": {
      "text/plain": [
       "<Axes: xlabel='cluster', ylabel='compound'>"
      ]
     },
     "execution_count": 33,
     "metadata": {},
     "output_type": "execute_result"
    },
    {
     "data": {
      "image/png": "[encoded data removed]",
      "text/plain": [
       "<Figure size 640x480 with 1 Axes>"
      ]
     },
     "metadata": {},
     "output_type": "display_data"
    }
   ],
   "source": [
    "sns.scatterplot(data=df, y=\"compound\", x=\"cluster\", hue=\"forks\", size=\"forks\", sizes=(20, 800))"
   ]
  },
  {
   "cell_type": "markdown",
   "metadata": {},
   "source": [
    "## Realizando el resto de transformaciones del dataframe"
   ]
  },
  {
   "cell_type": "code",
   "execution_count": 35,
   "metadata": {},
   "outputs": [
    {
     "data": {
      "text/plain": [
       "Index(['repo_name', 'compound', 'date', 'rank', 'stars', 'forks', 'username',\n",
       "       'issues', 'description', 'days_since_lc', 'repos_by_user', 'cluster'],\n",
       "      dtype='object')"
      ]
     },
     "execution_count": 35,
     "metadata": {},
     "output_type": "execute_result"
    }
   ],
   "source": [
    "df.columns"
   ]
  },
  {
   "cell_type": "code",
   "execution_count": 37,
   "metadata": {},
   "outputs": [
    {
     "data": {
      "text/html": [
       "<div>\n",
       "<style scoped>\n",
       "    .dataframe tbody tr th:only-of-type {\n",
       "        vertical-align: middle;\n",
       "    }\n",
       "\n",
       "    .dataframe tbody tr th {\n",
       "        vertical-align: top;\n",
       "    }\n",
       "\n",
       "    .dataframe thead th {\n",
       "        text-align: right;\n",
       "    }\n",
       "</style>\n",
       "<table border=\"1\" class=\"dataframe\">\n",
       "  <thead>\n",
       "    <tr style=\"text-align: right;\">\n",
       "      <th></th>\n",
       "      <th>repo_name</th>\n",
       "      <th>compound</th>\n",
       "      <th>rank</th>\n",
       "      <th>stars</th>\n",
       "      <th>forks</th>\n",
       "      <th>username</th>\n",
       "      <th>issues</th>\n",
       "      <th>days_since_lc</th>\n",
       "      <th>repos_by_user</th>\n",
       "      <th>cluster</th>\n",
       "      <th>day</th>\n",
       "      <th>month</th>\n",
       "      <th>year</th>\n",
       "    </tr>\n",
       "  </thead>\n",
       "  <tbody>\n",
       "    <tr>\n",
       "      <th>0</th>\n",
       "      <td>1244</td>\n",
       "      <td>0.6249</td>\n",
       "      <td>1</td>\n",
       "      <td>58777</td>\n",
       "      <td>11448</td>\n",
       "      <td>3209</td>\n",
       "      <td>439</td>\n",
       "      <td>5.0</td>\n",
       "      <td>1.0</td>\n",
       "      <td>4</td>\n",
       "      <td>18</td>\n",
       "      <td>12</td>\n",
       "      <td>2018</td>\n",
       "    </tr>\n",
       "    <tr>\n",
       "      <th>1</th>\n",
       "      <td>1244</td>\n",
       "      <td>0.6249</td>\n",
       "      <td>1</td>\n",
       "      <td>58801</td>\n",
       "      <td>11454</td>\n",
       "      <td>3209</td>\n",
       "      <td>439</td>\n",
       "      <td>6.0</td>\n",
       "      <td>1.0</td>\n",
       "      <td>4</td>\n",
       "      <td>19</td>\n",
       "      <td>12</td>\n",
       "      <td>2018</td>\n",
       "    </tr>\n",
       "    <tr>\n",
       "      <th>2</th>\n",
       "      <td>1244</td>\n",
       "      <td>0.6249</td>\n",
       "      <td>1</td>\n",
       "      <td>58840</td>\n",
       "      <td>11455</td>\n",
       "      <td>3209</td>\n",
       "      <td>439</td>\n",
       "      <td>0.0</td>\n",
       "      <td>1.0</td>\n",
       "      <td>4</td>\n",
       "      <td>20</td>\n",
       "      <td>12</td>\n",
       "      <td>2018</td>\n",
       "    </tr>\n",
       "    <tr>\n",
       "      <th>3</th>\n",
       "      <td>1244</td>\n",
       "      <td>0.6249</td>\n",
       "      <td>1</td>\n",
       "      <td>58882</td>\n",
       "      <td>11465</td>\n",
       "      <td>3209</td>\n",
       "      <td>440</td>\n",
       "      <td>1.0</td>\n",
       "      <td>1.0</td>\n",
       "      <td>4</td>\n",
       "      <td>21</td>\n",
       "      <td>12</td>\n",
       "      <td>2018</td>\n",
       "    </tr>\n",
       "    <tr>\n",
       "      <th>4</th>\n",
       "      <td>1244</td>\n",
       "      <td>0.6249</td>\n",
       "      <td>1</td>\n",
       "      <td>58936</td>\n",
       "      <td>11470</td>\n",
       "      <td>3209</td>\n",
       "      <td>439</td>\n",
       "      <td>2.0</td>\n",
       "      <td>1.0</td>\n",
       "      <td>4</td>\n",
       "      <td>22</td>\n",
       "      <td>12</td>\n",
       "      <td>2018</td>\n",
       "    </tr>\n",
       "  </tbody>\n",
       "</table>\n",
       "</div>"
      ],
      "text/plain": [
       "   repo_name  compound  rank  stars  forks  username  issues  days_since_lc  \\\n",
       "0       1244    0.6249     1  58777  11448      3209     439            5.0   \n",
       "1       1244    0.6249     1  58801  11454      3209     439            6.0   \n",
       "2       1244    0.6249     1  58840  11455      3209     439            0.0   \n",
       "3       1244    0.6249     1  58882  11465      3209     440            1.0   \n",
       "4       1244    0.6249     1  58936  11470      3209     439            2.0   \n",
       "\n",
       "   repos_by_user  cluster  day  month  year  \n",
       "0            1.0        4   18     12  2018  \n",
       "1            1.0        4   19     12  2018  \n",
       "2            1.0        4   20     12  2018  \n",
       "3            1.0        4   21     12  2018  \n",
       "4            1.0        4   22     12  2018  "
      ]
     },
     "execution_count": 37,
     "metadata": {},
     "output_type": "execute_result"
    }
   ],
   "source": [
    "df_le = df.drop(columns=[\"description\"])\n",
    "\n",
    "le = LabelEncoder()\n",
    "df_le[\"repo_name\"] = le.fit_transform(df_le[\"repo_name\"])\n",
    "\n",
    "df_le[\"day\"] = df_le[\"date\"].dt.day\n",
    "df_le[\"month\"] = df_le[\"date\"].dt.month\n",
    "df_le[\"year\"] = df_le[\"date\"].dt.year\n",
    "df_le.drop(columns=\"date\", inplace=True)\n",
    "\n",
    "df_le.head()"
   ]
  },
  {
   "cell_type": "code",
   "execution_count": 38,
   "metadata": {},
   "outputs": [
    {
     "data": {
      "text/plain": [
       "Index(['repo_name', 'compound', 'rank', 'stars', 'forks', 'username', 'issues',\n",
       "       'days_since_lc', 'repos_by_user', 'cluster', 'day', 'month', 'year'],\n",
       "      dtype='object')"
      ]
     },
     "execution_count": 38,
     "metadata": {},
     "output_type": "execute_result"
    }
   ],
   "source": [
    "df_le.columns"
   ]
  },
  {
   "cell_type": "code",
   "execution_count": 39,
   "metadata": {},
   "outputs": [
    {
     "data": {
      "text/html": [
       "<div>\n",
       "<style scoped>\n",
       "    .dataframe tbody tr th:only-of-type {\n",
       "        vertical-align: middle;\n",
       "    }\n",
       "\n",
       "    .dataframe tbody tr th {\n",
       "        vertical-align: top;\n",
       "    }\n",
       "\n",
       "    .dataframe thead th {\n",
       "        text-align: right;\n",
       "    }\n",
       "</style>\n",
       "<table border=\"1\" class=\"dataframe\">\n",
       "  <thead>\n",
       "    <tr style=\"text-align: right;\">\n",
       "      <th></th>\n",
       "      <th>repo_name</th>\n",
       "      <th>compound</th>\n",
       "      <th>rank</th>\n",
       "      <th>stars</th>\n",
       "      <th>forks</th>\n",
       "      <th>username</th>\n",
       "      <th>issues</th>\n",
       "      <th>days_since_lc</th>\n",
       "      <th>repos_by_user</th>\n",
       "      <th>cluster</th>\n",
       "      <th>day</th>\n",
       "      <th>month</th>\n",
       "      <th>year</th>\n",
       "    </tr>\n",
       "  </thead>\n",
       "  <tbody>\n",
       "    <tr>\n",
       "      <th>0</th>\n",
       "      <td>-0.479267</td>\n",
       "      <td>1.963859</td>\n",
       "      <td>-1.0</td>\n",
       "      <td>2.787406</td>\n",
       "      <td>1.826290</td>\n",
       "      <td>0.987031</td>\n",
       "      <td>0.883721</td>\n",
       "      <td>0.111111</td>\n",
       "      <td>0.0</td>\n",
       "      <td>-0.4</td>\n",
       "      <td>0.133333</td>\n",
       "      <td>1.0</td>\n",
       "      <td>-1.5</td>\n",
       "    </tr>\n",
       "    <tr>\n",
       "      <th>1</th>\n",
       "      <td>-0.479267</td>\n",
       "      <td>1.963859</td>\n",
       "      <td>-1.0</td>\n",
       "      <td>2.789049</td>\n",
       "      <td>1.827625</td>\n",
       "      <td>0.987031</td>\n",
       "      <td>0.883721</td>\n",
       "      <td>0.166667</td>\n",
       "      <td>0.0</td>\n",
       "      <td>-0.4</td>\n",
       "      <td>0.200000</td>\n",
       "      <td>1.0</td>\n",
       "      <td>-1.5</td>\n",
       "    </tr>\n",
       "    <tr>\n",
       "      <th>2</th>\n",
       "      <td>-0.479267</td>\n",
       "      <td>1.963859</td>\n",
       "      <td>-1.0</td>\n",
       "      <td>2.791718</td>\n",
       "      <td>1.827847</td>\n",
       "      <td>0.987031</td>\n",
       "      <td>0.883721</td>\n",
       "      <td>-0.166667</td>\n",
       "      <td>0.0</td>\n",
       "      <td>-0.4</td>\n",
       "      <td>0.266667</td>\n",
       "      <td>1.0</td>\n",
       "      <td>-1.5</td>\n",
       "    </tr>\n",
       "    <tr>\n",
       "      <th>3</th>\n",
       "      <td>-0.479267</td>\n",
       "      <td>1.963859</td>\n",
       "      <td>-1.0</td>\n",
       "      <td>2.794593</td>\n",
       "      <td>1.830071</td>\n",
       "      <td>0.987031</td>\n",
       "      <td>0.886628</td>\n",
       "      <td>-0.111111</td>\n",
       "      <td>0.0</td>\n",
       "      <td>-0.4</td>\n",
       "      <td>0.333333</td>\n",
       "      <td>1.0</td>\n",
       "      <td>-1.5</td>\n",
       "    </tr>\n",
       "    <tr>\n",
       "      <th>4</th>\n",
       "      <td>-0.479267</td>\n",
       "      <td>1.963859</td>\n",
       "      <td>-1.0</td>\n",
       "      <td>2.798289</td>\n",
       "      <td>1.831183</td>\n",
       "      <td>0.987031</td>\n",
       "      <td>0.883721</td>\n",
       "      <td>-0.055556</td>\n",
       "      <td>0.0</td>\n",
       "      <td>-0.4</td>\n",
       "      <td>0.400000</td>\n",
       "      <td>1.0</td>\n",
       "      <td>-1.5</td>\n",
       "    </tr>\n",
       "  </tbody>\n",
       "</table>\n",
       "</div>"
      ],
      "text/plain": [
       "   repo_name  compound  rank     stars     forks  username    issues  \\\n",
       "0  -0.479267  1.963859  -1.0  2.787406  1.826290  0.987031  0.883721   \n",
       "1  -0.479267  1.963859  -1.0  2.789049  1.827625  0.987031  0.883721   \n",
       "2  -0.479267  1.963859  -1.0  2.791718  1.827847  0.987031  0.883721   \n",
       "3  -0.479267  1.963859  -1.0  2.794593  1.830071  0.987031  0.886628   \n",
       "4  -0.479267  1.963859  -1.0  2.798289  1.831183  0.987031  0.883721   \n",
       "\n",
       "   days_since_lc  repos_by_user  cluster       day  month  year  \n",
       "0       0.111111            0.0     -0.4  0.133333    1.0  -1.5  \n",
       "1       0.166667            0.0     -0.4  0.200000    1.0  -1.5  \n",
       "2      -0.166667            0.0     -0.4  0.266667    1.0  -1.5  \n",
       "3      -0.111111            0.0     -0.4  0.333333    1.0  -1.5  \n",
       "4      -0.055556            0.0     -0.4  0.400000    1.0  -1.5  "
      ]
     },
     "execution_count": 39,
     "metadata": {},
     "output_type": "execute_result"
    }
   ],
   "source": [
    "RobEsc = RobustScaler()\n",
    "esc_features = RobEsc.fit_transform(df_le)\n",
    "df_le[['repo_name', 'compound', 'rank', 'stars', 'forks', 'username', 'issues',\n",
    "       'days_since_lc', 'repos_by_user', 'cluster', 'day', 'month', 'year']] = esc_features\n",
    "\n",
    "df_le.head()"
   ]
  },
  {
   "cell_type": "markdown",
   "metadata": {},
   "source": [
    "## Separación de los datos"
   ]
  },
  {
   "cell_type": "code",
   "execution_count": 40,
   "metadata": {},
   "outputs": [],
   "source": [
    "train, test = train_test_split(df_le, test_size=0.2, random_state=42)"
   ]
  },
  {
   "cell_type": "code",
   "execution_count": 41,
   "metadata": {},
   "outputs": [],
   "source": [
    "train.to_csv(\"..\\\\data\\\\processed\\\\train_nlp.csv\")\n",
    "test.to_csv(\"..\\\\data\\\\processed\\\\test_nlp.csv\")"
   ]
  }
 ],
 "metadata": {
  "kernelspec": {
   "display_name": ".venv",
   "language": "python",
   "name": "python3"
  },
  "language_info": {
   "codemirror_mode": {
    "name": "ipython",
    "version": 3
   },
   "file_extension": ".py",
   "mimetype": "text/x-python",
   "name": "python",
   "nbconvert_exporter": "python",
   "pygments_lexer": "ipython3",
   "version": "3.12.2"
  }
 },
 "nbformat": 4,
 "nbformat_minor": 2
}
